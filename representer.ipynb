{
 "cells": [
  {
   "cell_type": "code",
   "execution_count": 1,
   "id": "viral-underwear",
   "metadata": {},
   "outputs": [],
   "source": [
    "import cv2 as cv\n",
    "import argparse\n",
    "import numpy as np\n",
    "import random\n",
    "import time\n",
    "import matplotlib.pyplot as plt"
   ]
  },
  {
   "cell_type": "code",
   "execution_count": 12,
   "id": "heavy-hazard",
   "metadata": {},
   "outputs": [],
   "source": [
    "## Trackbar Data\n",
    "title_window = 'Skinney Pandas'\n",
    "emotions = np.random.randint(100, size=(5000))\n",
    "\n",
    "## load images into array\n",
    "images = [cv.imread('./1.jpg'),cv.imread('./2.jpg')]\n",
    "\n",
    "##Settings of concatenated image\n",
    "max_width = 800 # \n",
    "max_height = 600 #\n",
    "\n",
    "## fake emotions\n",
    "opac = 30\n",
    "happyness = 60\n",
    "engagement = 10\n",
    "\n",
    "\n",
    "### text settings\n",
    "font = cv.FONT_HERSHEY_SIMPLEX\n",
    "org = (50, 50)\n",
    "fontScale = 2\n",
    "color = (0, 255,0 )\n",
    "thickness = 5\n",
    "imgtext= 'text'"
   ]
  },
  {
   "cell_type": "code",
   "execution_count": 3,
   "id": "absolute-assistant",
   "metadata": {},
   "outputs": [],
   "source": [
    "\"\"\"\n",
    "    Reduces the size(width and height) of the given image by \n",
    "    the given percentage.\n",
    "\"\"\"\n",
    "def reduceSizeByPercentage(img, percentage):\n",
    "    width = int((max_width*percentage)/100)\n",
    "    height = int((max_height*percentage)/100)\n",
    "    return cv.resize(img,(width, height), interpolation = cv.INTER_AREA)"
   ]
  },
  {
   "cell_type": "code",
   "execution_count": 4,
   "id": "freelance-directory",
   "metadata": {},
   "outputs": [],
   "source": [
    "\"\"\"\n",
    "    Concatenates two images horizontally\n",
    "\"\"\"\n",
    "def concat_images(imga,imgb):\n",
    "    ha,wa = imga.shape[:2]\n",
    "    hb,wb = imgb.shape[:2]\n",
    "    max_heightt = np.max([ha, hb])\n",
    "    total_widthh = wa+wb\n",
    "    new_img = np.zeros(shape=(max_heightt, total_widthh, 3),dtype=np.uint8)\n",
    "    new_img[:ha,:wa]=imga\n",
    "    new_img[:hb,wa:wa+wb]=imgb\n",
    "    return new_img"
   ]
  },
  {
   "cell_type": "code",
   "execution_count": 5,
   "id": "afraid-sheffield",
   "metadata": {},
   "outputs": [],
   "source": [
    "\"\"\"\n",
    "    concatenates n images from a list of images.\n",
    "\"\"\"\n",
    "def concat_n_images(images):\n",
    "    output = None\n",
    "    for i, img in enumerate(images):\n",
    "        if i==0:\n",
    "            output = img\n",
    "        else:\n",
    "            output = concat_images(output, img)\n",
    "    return output"
   ]
  },
  {
   "cell_type": "code",
   "execution_count": 6,
   "id": "amber-bishop",
   "metadata": {},
   "outputs": [],
   "source": [
    "\"\"\"\n",
    "    Calculates the unknown variable that is multiplied by the two values \n",
    "    so that their sum adds up to 100 to keep the ratio of the\n",
    "    two values. \n",
    "\"\"\"\n",
    "def calculate_new_ratio(value1, value2):\n",
    "    #(20*x+50*x) = 100\n",
    "    diff =100/(happyness+engagement)\n",
    "    value1 = value1*diff\n",
    "    value2 = value2*diff\n",
    "    return (value1,value2)"
   ]
  },
  {
   "cell_type": "code",
   "execution_count": 7,
   "id": "sharing-handle",
   "metadata": {},
   "outputs": [],
   "source": [
    "\"\"\"\n",
    "    Returns the resized images based on the emotion percentage \n",
    "\"\"\"\n",
    "def get_resized_images(hap, enga):\n",
    "    happyness,engagement = calculate_new_ratio(hap, enga)\n",
    "    img1 = reduceSizeByPercentage(images[0], happyness)\n",
    "    img2 = reduceSizeByPercentage(images[1], engagement)\n",
    "    return [img1,img2]\n"
   ]
  },
  {
   "cell_type": "code",
   "execution_count": null,
   "id": "healthy-correlation",
   "metadata": {},
   "outputs": [
    {
     "name": "stdout",
     "output_type": "stream",
     "text": [
      "799\n"
     ]
    }
   ],
   "source": [
    "output = concat_n_images(get_resized_images(happyness,engagement))\n",
    "## sets black pixels to white pixels\n",
    "output[output == 0] = 255\n",
    "cv.imshow(title_window, output)\n",
    "cv.waitKey(0)\n",
    "#plt.imshow(output)\n",
    "#plt.show()"
   ]
  },
  {
   "cell_type": "code",
   "execution_count": 9,
   "id": "flush-renewal",
   "metadata": {},
   "outputs": [],
   "source": [
    "###Ignore following cells"
   ]
  },
  {
   "cell_type": "code",
   "execution_count": 10,
   "id": "nominated-snapshot",
   "metadata": {},
   "outputs": [],
   "source": [
    "def blendImages(val):\n",
    "    alpha = val / alpha_slider_max\n",
    "    beta = 1-alpha\n",
    "    print(beta)\n",
    "    if(alpha >= 0.5):\n",
    "        beta = 0\n",
    "        alpha = 1\n",
    "        imgtext = 'NOOOOICE'\n",
    "    else:\n",
    "        beta = 1.0\n",
    "        alpha = 0\n",
    "        imgtext = 'BRUUUUH'\n",
    "    dst = cv.addWeighted(src1, alpha, src2, beta , 0.0)\n",
    "    dst = cv.putText(dst, imgtext, org, font, fontScale, color, thickness, cv.LINE_AA)\n",
    "    cv.imshow(title_window, dst)\n",
    "    cv.waitKey(1000)"
   ]
  },
  {
   "cell_type": "code",
   "execution_count": 11,
   "id": "caroline-dinner",
   "metadata": {},
   "outputs": [],
   "source": [
    "def loopCallBlendImages():\n",
    "    ## Check if images are valid\n",
    "    if src1 is None:\n",
    "        print('Could not open or find the image:')\n",
    "    exit(0)\n",
    "    if src2 is None:\n",
    "        print('Could not open or find the image:')\n",
    "    exit(0)\n",
    "    \n",
    "    ## switch between images \n",
    "    while True:\n",
    "        blendImages(random.choice(emotions))"
   ]
  }
 ],
 "metadata": {
  "kernelspec": {
   "display_name": "Python 3",
   "language": "python",
   "name": "python3"
  },
  "language_info": {
   "codemirror_mode": {
    "name": "ipython",
    "version": 3
   },
   "file_extension": ".py",
   "mimetype": "text/x-python",
   "name": "python",
   "nbconvert_exporter": "python",
   "pygments_lexer": "ipython3",
   "version": "3.6.12"
  }
 },
 "nbformat": 4,
 "nbformat_minor": 5
}

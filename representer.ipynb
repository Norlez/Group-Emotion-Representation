{
 "cells": [
  {
   "cell_type": "code",
   "execution_count": 1,
   "id": "viral-underwear",
   "metadata": {},
   "outputs": [],
   "source": [
    "import cv2 as cv\n",
    "import argparse\n",
    "import numpy as np\n",
    "import random\n",
    "import time\n",
    "import matplotlib.pyplot as plt\n",
    "\n",
    "# for showing float values upto 2 decimal places\n",
    "float_formatter = \"{:.2f}\".format\n",
    "np.set_printoptions(formatter={'float_kind':float_formatter})"
   ]
  },
  {
   "cell_type": "code",
   "execution_count": 2,
   "id": "e6a533e5",
   "metadata": {},
   "outputs": [],
   "source": [
    "def softmax(z):\n",
    "    '''\n",
    "    Turns a vector of real values to another vector of real values whose sum is 1. \n",
    "\n",
    "    Parameters\n",
    "    ----------\n",
    "    z : numpy.ndarray\n",
    "        real valued vector\n",
    "        \n",
    "    Returns\n",
    "    -------\n",
    "    softmax_output : numpy.ndarray\n",
    "        Softmax of the input vector.\n",
    "\n",
    "    '''\n",
    "    return np.exp(z) / np.sum(np.exp(z))\n",
    "\n",
    "def update_probability(current_probability, transition_matrix):\n",
    "    '''\n",
    "    Updates the probability by one step using a Markov transition matrix.\n",
    "    \n",
    "    Parameters\n",
    "    ----------\n",
    "    current_probability : numpy.ndarray\n",
    "        current probability of the variables\n",
    "    transition_matrix : numpy.ndarray\n",
    "        Markov transition matrix\n",
    "    \n",
    "    Returns\n",
    "    -------\n",
    "    updated_probability : numpy.ndarray\n",
    "        probability updated by one step\n",
    "    '''\n",
    "    return np.dot(current_probability, transition_matrix)\n",
    "\n",
    "def change_transition_matrix(transition_matrix, change_probability):\n",
    "    '''\n",
    "    Randomly modifies the Markov transition matrix (row-wise).\n",
    "    \n",
    "    Parameters\n",
    "    ----------\n",
    "    transition_matrix : numpy.ndarray\n",
    "        Markov transition matrix\n",
    "    change_probability : float\n",
    "        probability that one or more rows of the transition matrix changes randomly.\n",
    "    \n",
    "    Returns\n",
    "    -------\n",
    "    transition_matrix : numpy.ndarray\n",
    "        the updated transition matrix\n",
    "    '''\n",
    "    for i in range(3):\n",
    "        if random.uniform(0, 1) > (1.0 - change_probability):\n",
    "            row = np.array([random.randint(0, 10), random.randint(0, 10), random.randint(0, 10)])\n",
    "            transition_matrix[i, :] = softmax(row)\n",
    "    return transition_matrix"
   ]
  },
  {
   "cell_type": "code",
   "execution_count": 3,
   "id": "528afd89",
   "metadata": {},
   "outputs": [],
   "source": [
    "# Group emotion simulation\n",
    "\n",
    "# initial value\n",
    "# Happy, Not happy, Undefined\n",
    "# Engaged, Not engaged, Undefined\n",
    "happiness = np.array([[0.4, 0.3, 0.3], [0.5, 0.2, 0.3], [0.3, 0.5, 0.2]])\n",
    "engagedness = np.array([[0.5, 0.2, 0.3], [0.6, 0.3, 0.1], [0.4, 0.2, 0.4]])\n",
    "\n",
    "happiness_probability = np.array([[0, 0, 1]])\n",
    "engagedness_probability = np.array([[0, 0, 1]])"
   ]
  },
  {
   "cell_type": "code",
   "execution_count": 4,
   "id": "6b0004b6",
   "metadata": {},
   "outputs": [],
   "source": [
    "for i in range(20):\n",
    "    happiness = change_transition_matrix(happiness, 0.2)\n",
    "    happiness_probability = update_probability(happiness_probability, happiness)\n",
    "    \n",
    "    engagedness = change_transition_matrix(engagedness, 0.2)\n",
    "    engagedness_probability = update_probability(engagedness_probability, engagedness)\n",
    "    \n",
    "#     print(happiness_probability)\n",
    "#     print(engagedness_probability)"
   ]
  },
  {
   "cell_type": "code",
   "execution_count": 29,
   "id": "f739e041",
   "metadata": {},
   "outputs": [],
   "source": [
    "def display_image(image, title='', figsize=None):\n",
    "    '''\n",
    "    Displays a cv image.\n",
    "\n",
    "    Parameters\n",
    "    ----------\n",
    "    image : numpy.ndarray\n",
    "        image in a numpy array.\n",
    "    title : string, optional\n",
    "        title of the image. The default is ''.\n",
    "\n",
    "    Returns\n",
    "    -------\n",
    "    None.\n",
    "\n",
    "    '''\n",
    "    if figsize != '':\n",
    "        plt.figure(figsize=figsize, dpi= 100, facecolor='w', edgecolor='k')\n",
    "    image = image.astype('float32') * 255\n",
    "    if image.ndim == 3:    # color image\n",
    "        plt.imshow(cv.cvtColor(image, cv.COLOR_BGRA2RGB).astype('uint8'), cmap='cubehelix')        \n",
    "    elif cv_image.ndim == 2:    # grayscale image\n",
    "        plt.imshow(image, cmap='gray')\n",
    "    plt.colorbar()\n",
    "    plt.title(title)\n",
    "    plt.show()"
   ]
  },
  {
   "cell_type": "code",
   "execution_count": 6,
   "id": "heavy-hazard",
   "metadata": {},
   "outputs": [],
   "source": [
    "## Trackbar Data\n",
    "title_window = 'Skinney Pandas'\n",
    "\n",
    "\n",
    "## load images into array\n",
    "images = [cv.imread('images/1.jpg'),cv.imread('images/2.jpg')]\n",
    "\n",
    "##Settings of concatenated image\n",
    "max_width = 1200 # \n",
    "max_height = 900 #\n",
    "\n",
    "## fake emotions\n",
    "opacity = 30\n",
    "happyness = 60\n",
    "engagement = 10\n",
    "\n",
    "### text settings\n",
    "font = cv.FONT_HERSHEY_SIMPLEX\n",
    "org = (50, 50)\n",
    "fontScale = 2\n",
    "color = (0, 255,0 )\n",
    "thickness = 5\n",
    "imgtext= 'text'"
   ]
  },
  {
   "cell_type": "code",
   "execution_count": 7,
   "id": "absolute-assistant",
   "metadata": {},
   "outputs": [],
   "source": [
    "\"\"\"\n",
    "    Reduces the size(width and height) of the given image by \n",
    "    the given percentage.\n",
    "\"\"\"\n",
    "def reduceSizeByPercentage(img, percentage):\n",
    "    width = int((max_width*percentage)/100)\n",
    "    height = int((max_height*percentage)/100)\n",
    "    return cv.resize(img,(width, height), interpolation = cv.INTER_AREA)"
   ]
  },
  {
   "cell_type": "code",
   "execution_count": 8,
   "id": "freelance-directory",
   "metadata": {},
   "outputs": [],
   "source": [
    "\"\"\"\n",
    "    Concatenates two images horizontally\n",
    "\"\"\"\n",
    "def concat_images(imga,imgb):\n",
    "    ha,wa = imga.shape[:2]\n",
    "    hb,wb = imgb.shape[:2]\n",
    "    new_img = np.zeros(shape=(np.max([ha, hb]), wa+wb, 3),dtype=np.uint8)\n",
    "    new_img[new_img == 0] = 255\n",
    "    new_img[:ha,:wa]=imga\n",
    "    new_img[:hb,wa:wa+wb]=imgb\n",
    "    return new_img"
   ]
  },
  {
   "cell_type": "code",
   "execution_count": 9,
   "id": "afraid-sheffield",
   "metadata": {},
   "outputs": [],
   "source": [
    "\"\"\"\n",
    "    concatenates n images from a list of images.\n",
    "\"\"\"\n",
    "def concat_n_images(images):\n",
    "    output = None\n",
    "    for i, img in enumerate(images):\n",
    "        if i==0:\n",
    "            output = img\n",
    "        else:\n",
    "            output = concat_images(output, img)\n",
    "    return output"
   ]
  },
  {
   "cell_type": "code",
   "execution_count": 10,
   "id": "amber-bishop",
   "metadata": {},
   "outputs": [],
   "source": [
    "\"\"\"\n",
    "    Calculates the unknown variable that is multiplied by the two values \n",
    "    so that their sum adds up to 100 to keep the ratio of the\n",
    "    two values. \n",
    "\"\"\"\n",
    "def calculate_new_ratio(value1, value2):\n",
    "    #(20*x+50*x) = 100\n",
    "    diff =100/(happyness+engagement)\n",
    "    value1 = value1*diff\n",
    "    value2 = value2*diff\n",
    "    return (value1,value2)"
   ]
  },
  {
   "cell_type": "code",
   "execution_count": 11,
   "id": "sharing-handle",
   "metadata": {},
   "outputs": [],
   "source": [
    "\"\"\"\n",
    "    Returns the resized images based on the emotion percentage \n",
    "\"\"\"\n",
    "def get_resized_images(hap, enga):\n",
    "    happyness,engagement = calculate_new_ratio(hap, enga)\n",
    "    img1 = reduceSizeByPercentage(images[0], happyness)\n",
    "    img2 = reduceSizeByPercentage(images[1], engagement)\n",
    "    return [img1,img2]"
   ]
  },
  {
   "cell_type": "code",
   "execution_count": 12,
   "id": "70012b9a",
   "metadata": {},
   "outputs": [],
   "source": [
    "\"\"\"\n",
    "    Changes the Opacity/Alpha Value of an given image\n",
    "\"\"\"\n",
    "def getRGBA(opacity,src):\n",
    "    img = np.array(src, dtype=float)\n",
    "    img /= 255.0\n",
    "    a_channel = np.ones(img.shape, dtype=float)-(opacity/100)\n",
    "    return img*a_channel"
   ]
  },
  {
   "cell_type": "code",
   "execution_count": 31,
   "id": "healthy-correlation",
   "metadata": {},
   "outputs": [
    {
     "data": {
      "image/png": "[encoded data removed]",
      "text/plain": [
       "<Figure size 1000x600 with 2 Axes>"
      ]
     },
     "metadata": {},
     "output_type": "display_data"
    }
   ],
   "source": [
    "\n",
    "output = concat_n_images(get_resized_images(happyness,engagement))\n",
    "output = getRGBA(opacity,output)\n",
    "\n",
    "\n",
    "display_image(output, figsize=(10, 6))\n",
    "# cv.imshow('img',output)\n",
    "# cv.waitKey(0)\n",
    "# cv.destroyAllWindows()"
   ]
  },
  {
   "cell_type": "code",
   "execution_count": 14,
   "id": "flush-renewal",
   "metadata": {},
   "outputs": [],
   "source": [
    "###Ignore following cells"
   ]
  },
  {
   "cell_type": "code",
   "execution_count": null,
   "id": "30646bee",
   "metadata": {},
   "outputs": [],
   "source": []
  },
  {
   "cell_type": "code",
   "execution_count": null,
   "id": "51d5adf3",
   "metadata": {},
   "outputs": [],
   "source": []
  },
  {
   "cell_type": "code",
   "execution_count": null,
   "id": "19ca90ec",
   "metadata": {},
   "outputs": [],
   "source": []
  },
  {
   "cell_type": "code",
   "execution_count": null,
   "id": "3d7f9cc4",
   "metadata": {},
   "outputs": [],
   "source": []
  },
  {
   "cell_type": "code",
   "execution_count": null,
   "id": "c940d2c5",
   "metadata": {},
   "outputs": [],
   "source": []
  },
  {
   "cell_type": "code",
   "execution_count": null,
   "id": "a24946ac",
   "metadata": {},
   "outputs": [],
   "source": []
  },
  {
   "cell_type": "code",
   "execution_count": 15,
   "id": "nominated-snapshot",
   "metadata": {},
   "outputs": [],
   "source": [
    "def blendImages(val):\n",
    "    alpha = val / alpha_slider_max\n",
    "    beta = 1-alpha\n",
    "    print(beta)\n",
    "    if(alpha >= 0.5):\n",
    "        beta = 0\n",
    "        alpha = 1\n",
    "        imgtext = 'NOOOOICE'\n",
    "    else:\n",
    "        beta = 1.0\n",
    "        alpha = 0\n",
    "        imgtext = 'BRUUUUH'\n",
    "    dst = cv.addWeighted(src1, alpha, src2, beta , 0.0)\n",
    "    dst = cv.putText(dst, imgtext, org, font, fontScale, color, thickness, cv.LINE_AA)\n",
    "    cv.imshow(title_window, dst)\n",
    "    cv.waitKey(1000)"
   ]
  },
  {
   "cell_type": "code",
   "execution_count": 16,
   "id": "caroline-dinner",
   "metadata": {},
   "outputs": [],
   "source": [
    "def loopCallBlendImages():\n",
    "    ## Check if images are valid\n",
    "    if src1 is None:\n",
    "        print('Could not open or find the image:')\n",
    "    exit(0)\n",
    "    if src2 is None:\n",
    "        print('Could not open or find the image:')\n",
    "    exit(0)\n",
    "    \n",
    "    ## switch between images \n",
    "    while True:\n",
    "        blendImages(random.choice(emotions))"
   ]
  },
  {
   "cell_type": "code",
   "execution_count": null,
   "id": "71062147",
   "metadata": {},
   "outputs": [],
   "source": []
  }
 ],
 "metadata": {
  "kernelspec": {
   "display_name": "Python 3",
   "language": "python",
   "name": "python3"
  },
  "language_info": {
   "codemirror_mode": {
    "name": "ipython",
    "version": 3
   },
   "file_extension": ".py",
   "mimetype": "text/x-python",
   "name": "python",
   "nbconvert_exporter": "python",
   "pygments_lexer": "ipython3",
   "version": "3.8.5"
  }
 },
 "nbformat": 4,
 "nbformat_minor": 5
}

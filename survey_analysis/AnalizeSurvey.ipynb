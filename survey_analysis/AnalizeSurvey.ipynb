{
 "cells": [
  {
   "cell_type": "code",
   "execution_count": 74,
   "id": "b1d9d582",
   "metadata": {},
   "outputs": [],
   "source": [
    "import pandas as pd\n",
    "import numpy as np\n",
    "import matplotlib.pyplot as plt"
   ]
  },
  {
   "cell_type": "code",
   "execution_count": 75,
   "id": "6246b6b9",
   "metadata": {},
   "outputs": [],
   "source": [
    "#ts = pd.Series(np.random.randn(1000), index=pd.date_range('1/1/2000', periods=1000))\n",
    "#ts.plot()\n",
    "#plt.show()"
   ]
  },
  {
   "cell_type": "code",
   "execution_count": 76,
   "id": "693fd45c",
   "metadata": {},
   "outputs": [],
   "source": [
    "dfabstract = pd.read_csv('../GERabstract.csv')\n",
    "dfdetailed = pd.read_csv('../GERdetailed.csv')"
   ]
  },
  {
   "cell_type": "code",
   "execution_count": 77,
   "id": "dc911e41",
   "metadata": {},
   "outputs": [
    {
     "data": {
      "text/plain": [
       "<bound method NDFrame.head of                    Zeitstempel How old are you? What is your sex?  \\\n",
       "0    2021/07/12 3:29:01 PM OEZ      20-29 years             Other   \n",
       "1    2021/07/12 5:34:54 PM OEZ      20-29 years              Male   \n",
       "2    2021/07/13 8:39:48 AM OEZ      30-39 years              Male   \n",
       "3    2021/07/13 4:02:13 PM OEZ      20-29 years            Female   \n",
       "4    2021/07/15 1:42:25 AM OEZ      20-29 years            Female   \n",
       "5    2021/07/15 1:05:33 PM OEZ      20-29 years            Female   \n",
       "6    2021/07/18 9:39:21 PM OEZ      20-29 years            Female   \n",
       "7    2021/07/18 9:43:54 PM OEZ      20-29 years              Male   \n",
       "8   2021/07/18 11:03:48 PM OEZ      30-39 years              Male   \n",
       "9   2021/07/19 12:37:09 AM OEZ      30-39 years              Male   \n",
       "10   2021/07/19 1:10:26 AM OEZ      20-29 years              Male   \n",
       "11   2021/07/19 5:52:23 AM OEZ      30-39 years              Male   \n",
       "12   2021/07/19 9:34:45 AM OEZ      20-29 years              Male   \n",
       "13  2021/07/19 10:17:54 AM OEZ      20-29 years              Male   \n",
       "14  2021/07/19 10:31:15 AM OEZ      30-39 years              Male   \n",
       "\n",
       "   Where are you born? How many online meetings per week do you usually have?  \\\n",
       "0               Europa                            3 - 6 meetings per week       \n",
       "1               Europa                            3 - 6 meetings per week       \n",
       "2                 Asia                            3 - 6 meetings per week       \n",
       "3                 Asia                            3 - 6 meetings per week       \n",
       "4                 Asia                            3 - 6 meetings per week       \n",
       "5                 Asia                            3 - 6 meetings per week       \n",
       "6                 Asia                                       < 2 meetings       \n",
       "7                 Asia                                       < 2 meetings       \n",
       "8                 Asia                             > 10 meetings per week       \n",
       "9                 Asia                                       < 2 meetings       \n",
       "10                Asia                                       < 2 meetings       \n",
       "11                Asia                                       < 2 meetings       \n",
       "12                Asia                            3 - 6 meetings per week       \n",
       "13                Asia                             > 10 meetings per week       \n",
       "14                Asia                                       < 2 meetings       \n",
       "\n",
       "   Is it important for you to know what others think about you?  \\\n",
       "0                                                  no             \n",
       "1                                                  no             \n",
       "2                                                  no             \n",
       "3                                                  no             \n",
       "4                                                  no             \n",
       "5                                                 yes             \n",
       "6                                                 yes             \n",
       "7                                                  no             \n",
       "8                                                 yes             \n",
       "9                                                  no             \n",
       "10                                                yes             \n",
       "11                                                yes             \n",
       "12                                                yes             \n",
       "13                                                yes             \n",
       "14                                                 no             \n",
       "\n",
       "   Your thoughts about the system [I found the system complex.]  \\\n",
       "0                                I don't agree at all             \n",
       "1                                          I do agree             \n",
       "2                                             Neutral             \n",
       "3                                I don't agree at all             \n",
       "4                                       I don't agree             \n",
       "5                                       I don't agree             \n",
       "6                                       I don't agree             \n",
       "7                                       I don't agree             \n",
       "8                                          I do agree             \n",
       "9                                       I don't agree             \n",
       "10                                      I don't agree             \n",
       "11                                            Neutral             \n",
       "12                                      I don't agree             \n",
       "13                                         I do agree             \n",
       "14                                            Neutral             \n",
       "\n",
       "   Your thoughts about the system [I would have needed help to understand the system.]  \\\n",
       "0                                       I don't agree                                    \n",
       "1                                          I do agree                                    \n",
       "2                                I don't agree at all                                    \n",
       "3                                       I don't agree                                    \n",
       "4                                       I don't agree                                    \n",
       "5                                          I do agree                                    \n",
       "6                                          I do agree                                    \n",
       "7                                       I don't agree                                    \n",
       "8                                          I do agree                                    \n",
       "9                                             Neutral                                    \n",
       "10                                      I don't agree                                    \n",
       "11                                         I do agree                                    \n",
       "12                                            Neutral                                    \n",
       "13                                            Neutral                                    \n",
       "14                                            Neutral                                    \n",
       "\n",
       "   Your thoughts about the system [I could work with the system daily.]  \\\n",
       "0                                          I do agree                     \n",
       "1                                          I do agree                     \n",
       "2                                             Neutral                     \n",
       "3                                I don't agree at all                     \n",
       "4                                             Neutral                     \n",
       "5                                             Neutral                     \n",
       "6                                          I do agree                     \n",
       "7                                          I do agree                     \n",
       "8                                       I don't agree                     \n",
       "9                                             Neutral                     \n",
       "10                                         I do agree                     \n",
       "11                                            Neutral                     \n",
       "12                                         I do agree                     \n",
       "13                                      I don't agree                     \n",
       "14                                            Neutral                     \n",
       "\n",
       "   Your thoughts about the system [By knowing the emotion of the group, the system helped me to readjust my presentation and raise their engagement.]  \\\n",
       "0                                I don't agree at all                                                                                                   \n",
       "1                                             Neutral                                                                                                   \n",
       "2                                          I do agree                                                                                                   \n",
       "3                                I don't agree at all                                                                                                   \n",
       "4                                             Neutral                                                                                                   \n",
       "5                                          I do agree                                                                                                   \n",
       "6                                          I do agree                                                                                                   \n",
       "7                                          I do agree                                                                                                   \n",
       "8                                             Neutral                                                                                                   \n",
       "9                                             Neutral                                                                                                   \n",
       "10                                            Neutral                                                                                                   \n",
       "11                                         I do agree                                                                                                   \n",
       "12                                         I do agree                                                                                                   \n",
       "13                                            Neutral                                                                                                   \n",
       "14                                   I gree entirelly                                                                                                   \n",
       "\n",
       "   Your thoughts about the system [I could change my presentation during holding it, to raise the happiness of the viewers.]  \\\n",
       "0                                       I don't agree                                                                          \n",
       "1                                          I do agree                                                                          \n",
       "2                                          I do agree                                                                          \n",
       "3                                I don't agree at all                                                                          \n",
       "4                                       I don't agree                                                                          \n",
       "5                                          I do agree                                                                          \n",
       "6                                    I gree entirelly                                                                          \n",
       "7                                          I do agree                                                                          \n",
       "8                                       I don't agree                                                                          \n",
       "9                                             Neutral                                                                          \n",
       "10                                            Neutral                                                                          \n",
       "11                                      I don't agree                                                                          \n",
       "12                                         I do agree                                                                          \n",
       "13                                         I do agree                                                                          \n",
       "14                                         I do agree                                                                          \n",
       "\n",
       "   Your thoughts about the system [I think it was clear for me why the size of the emojis was changing.]  \\\n",
       "0                                    I gree entirelly                                                      \n",
       "1                                       I don't agree                                                      \n",
       "2                                    I gree entirelly                                                      \n",
       "3                                       I don't agree                                                      \n",
       "4                                          I do agree                                                      \n",
       "5                                          I do agree                                                      \n",
       "6                                    I gree entirelly                                                      \n",
       "7                                             Neutral                                                      \n",
       "8                                       I don't agree                                                      \n",
       "9                                       I don't agree                                                      \n",
       "10                                         I do agree                                                      \n",
       "11                                      I don't agree                                                      \n",
       "12                                   I gree entirelly                                                      \n",
       "13                                            Neutral                                                      \n",
       "14                                   I gree entirelly                                                      \n",
       "\n",
       "   Your thoughts about the system [I think the system was too complex to understand.]  \\\n",
       "0                                I don't agree at all                                   \n",
       "1                                       I don't agree                                   \n",
       "2                                I don't agree at all                                   \n",
       "3                                       I don't agree                                   \n",
       "4                                       I don't agree                                   \n",
       "5                                       I don't agree                                   \n",
       "6                                       I don't agree                                   \n",
       "7                                       I don't agree                                   \n",
       "8                                             Neutral                                   \n",
       "9                                       I don't agree                                   \n",
       "10                                      I don't agree                                   \n",
       "11                                         I do agree                                   \n",
       "12                                      I don't agree                                   \n",
       "13                                            Neutral                                   \n",
       "14                               I don't agree at all                                   \n",
       "\n",
       "   Your thoughts about the system [I think it was clear what effect the move of the slider will have.]  \\\n",
       "0                                             Neutral                                                    \n",
       "1                                             Neutral                                                    \n",
       "2                                          I do agree                                                    \n",
       "3                                I don't agree at all                                                    \n",
       "4                                       I don't agree                                                    \n",
       "5                                       I don't agree                                                    \n",
       "6                                          I do agree                                                    \n",
       "7                                             Neutral                                                    \n",
       "8                                       I don't agree                                                    \n",
       "9                                       I don't agree                                                    \n",
       "10                                         I do agree                                                    \n",
       "11                                      I don't agree                                                    \n",
       "12                                         I do agree                                                    \n",
       "13                                            Neutral                                                    \n",
       "14                                         I do agree                                                    \n",
       "\n",
       "   Your thoughts about the system [The using of the system makes me happy.]  \\\n",
       "0                                I don't agree at all                         \n",
       "1                                             Neutral                         \n",
       "2                                          I do agree                         \n",
       "3                                I don't agree at all                         \n",
       "4                                             Neutral                         \n",
       "5                                             Neutral                         \n",
       "6                                          I do agree                         \n",
       "7                                             Neutral                         \n",
       "8                                       I don't agree                         \n",
       "9                                I don't agree at all                         \n",
       "10                                            Neutral                         \n",
       "11                                      I don't agree                         \n",
       "12                                            Neutral                         \n",
       "13                                            Neutral                         \n",
       "14                                            Neutral                         \n",
       "\n",
       "   Your thoughts about the system [I think the used emojis were irritating to understand.]  \\\n",
       "0                                       I don't agree                                        \n",
       "1                                          I do agree                                        \n",
       "2                                             Neutral                                        \n",
       "3                                    I gree entirelly                                        \n",
       "4                                       I don't agree                                        \n",
       "5                                             Neutral                                        \n",
       "6                                       I don't agree                                        \n",
       "7                                       I don't agree                                        \n",
       "8                                          I do agree                                        \n",
       "9                                       I don't agree                                        \n",
       "10                                      I don't agree                                        \n",
       "11                                      I don't agree                                        \n",
       "12                                      I don't agree                                        \n",
       "13                                      I don't agree                                        \n",
       "14                                            Neutral                                        \n",
       "\n",
       "   Your thoughts about the system [I think the system has a nice interface.]  \\\n",
       "0                                       I don't agree                          \n",
       "1                                          I do agree                          \n",
       "2                                       I don't agree                          \n",
       "3                                I don't agree at all                          \n",
       "4                                       I don't agree                          \n",
       "5                                       I don't agree                          \n",
       "6                                          I do agree                          \n",
       "7                                       I don't agree                          \n",
       "8                                          I do agree                          \n",
       "9                                             Neutral                          \n",
       "10                                         I do agree                          \n",
       "11                                      I don't agree                          \n",
       "12                                         I do agree                          \n",
       "13                                         I do agree                          \n",
       "14                                            Neutral                          \n",
       "\n",
       "   Your thoughts about the system [I felt the system was valuable to me.]  \\\n",
       "0                                I don't agree at all                       \n",
       "1                                          I do agree                       \n",
       "2                                             Neutral                       \n",
       "3                                I don't agree at all                       \n",
       "4                                             Neutral                       \n",
       "5                                             Neutral                       \n",
       "6                                          I do agree                       \n",
       "7                                       I don't agree                       \n",
       "8                                             Neutral                       \n",
       "9                                I don't agree at all                       \n",
       "10                                            Neutral                       \n",
       "11                                      I don't agree                       \n",
       "12                                         I do agree                       \n",
       "13                                            Neutral                       \n",
       "14                                            Neutral                       \n",
       "\n",
       "   Do you have any suggestion about how to improve the system?  \n",
       "0   I personally would never want to use anything ...           \n",
       "1   The emotes for disengagement and engagement ar...           \n",
       "2   May be smaller icons of Emoji around the corne...           \n",
       "3   I generally do not find the system very helpfu...           \n",
       "4                                                 NaN           \n",
       "5                                                 NaN           \n",
       "6                                                  No           \n",
       "7                                                 NaN           \n",
       "8   4 different regular emoji with counter on top ...           \n",
       "9                                                 NaN           \n",
       "10                                                NaN           \n",
       "11                                                NaN           \n",
       "12                                                NaN           \n",
       "13                                                NaN           \n",
       "14                                                NaN           >"
      ]
     },
     "execution_count": 77,
     "metadata": {},
     "output_type": "execute_result"
    }
   ],
   "source": [
    "dfdetailed.head"
   ]
  },
  {
   "cell_type": "markdown",
   "id": "f42aabe0",
   "metadata": {},
   "source": [
    "- mja fshi fjalt e teperta\n",
    "- mja shendrru fjalt qe perseriten me sistem numror"
   ]
  },
  {
   "cell_type": "code",
   "execution_count": 78,
   "id": "70497658",
   "metadata": {},
   "outputs": [],
   "source": [
    "dfabstr = dfabstract.replace('Your thoughts about the system [','').replace('Neutral', 2).replace('I do agree',3).replace('I don\\'t agree at all',0).replace('I don\\'t agree', 1).replace('I gree entirelly', 4).replace('meetings per week','', regex=True).replace('meetings', '', regex=True).replace('Your thoughts about the system \\[','').replace(']','')\n",
    "dfdetail = dfdetailed.replace('Your thoughts about the system [','').replace('Neutral', 2).replace('I do agree',3).replace('I don\\'t agree at all',0).replace('I don\\'t agree', 1).replace('I gree entirelly', 4).replace('meetings per week','', regex=True).replace('meetings', '', regex=True).replace('Your thoughts about the system \\[','').replace(']','')\n",
    "\n",
    "dfabstRenamed = dfabstr.columns = ['time', 'age', 'sex', 'ethnicity', 'weekly_online_meet', 'others_opinion', 'too_complex', 'system_understood', 'use_daily', 'raise_engagement', 'raise_happiness', 'size_change_understood', 'complexity', 'effect_of_slider', 'use_makes_happy', 'irritating', 'nice_interface', 'system_felt_valuable', 'suggestions']\n",
    "dfdetRenamed = dfdetail.columns = ['time', 'age', 'sex', 'ethnicity', 'weekly_online_meet', 'others_opinion', 'too_complex', 'system_understood', 'use_daily', 'raise_engagement', 'raise_happiness', 'size_change_understood', 'complexity', 'effect_of_slider', 'use_makes_happy', 'irritating', 'nice_interface', 'system_felt_valuable', 'suggestions']"
   ]
  },
  {
   "cell_type": "code",
   "execution_count": 79,
   "id": "4e0434e1",
   "metadata": {
    "scrolled": true
   },
   "outputs": [
    {
     "data": {
      "image/png": "[encoded data removed]",
      "text/plain": [
       "<Figure size 432x288 with 1 Axes>"
      ]
     },
     "metadata": {
      "needs_background": "light"
     },
     "output_type": "display_data"
    }
   ],
   "source": [
    "# questions related to the system\n",
    "sys_dfabstr = dfabstr.iloc[:,6:-1]\n",
    "#print(cop)\n",
    "plt.hist(sys_dfabstr)\n",
    "plt.show()"
   ]
  },
  {
   "cell_type": "code",
   "execution_count": 102,
   "id": "0234409f",
   "metadata": {},
   "outputs": [
    {
     "data": {
      "text/plain": [
       "<AxesSubplot:xlabel='nice_interface'>"
      ]
     },
     "execution_count": 102,
     "metadata": {},
     "output_type": "execute_result"
    },
    {
     "data": {
      "image/png": "[encoded data removed]",
      "text/plain": [
       "<Figure size 432x288 with 1 Axes>"
      ]
     },
     "metadata": {
      "needs_background": "light"
     },
     "output_type": "display_data"
    }
   ],
   "source": [
    "#plt.bar(sys_dfabstr)\n",
    "sys_dfabstr.plot.bar(x=10, y=4, rot=0)"
   ]
  },
  {
   "cell_type": "code",
   "execution_count": 103,
   "id": "82e72654",
   "metadata": {},
   "outputs": [
    {
     "data": {
      "image/png": "[encoded data removed]",
      "text/plain": [
       "<Figure size 432x288 with 1 Axes>"
      ]
     },
     "metadata": {
      "needs_background": "light"
     },
     "output_type": "display_data"
    }
   ],
   "source": [
    "from statsmodels.graphics.gofplots import qqplot\n",
    "qqplot(sys_dfabstr, line='s')\n",
    "plt.show()"
   ]
  },
  {
   "cell_type": "code",
   "execution_count": 108,
   "id": "9269be9f",
   "metadata": {},
   "outputs": [
    {
     "name": "stdout",
     "output_type": "stream",
     "text": [
      "Statistikat:0.906, p=0.000\n",
      "Sample doesn't look gausian\n"
     ]
    }
   ],
   "source": [
    "from scipy.stats import shapiro\n",
    "stat, p = shapiro(sys_dfabstr)\n",
    "print('Statistikat:%.3f, p=%.3f' % (stat,p))\n",
    "#interpretuesi\n",
    "alpha = 0.05\n",
    "if p > alpha:\n",
    "    print('Sample does look gausian')\n",
    "else:\n",
    "    print('Sample doesn\\'t look gausian')"
   ]
  }
 ],
 "metadata": {
  "kernelspec": {
   "display_name": "Python 3 (ipykernel)",
   "language": "python",
   "name": "python3"
  },
  "language_info": {
   "codemirror_mode": {
    "name": "ipython",
    "version": 3
   },
   "file_extension": ".py",
   "mimetype": "text/x-python",
   "name": "python",
   "nbconvert_exporter": "python",
   "pygments_lexer": "ipython3",
   "version": "3.8.8"
  }
 },
 "nbformat": 4,
 "nbformat_minor": 5
}

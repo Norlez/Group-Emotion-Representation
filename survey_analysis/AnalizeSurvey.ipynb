{
 "cells": [
  {
   "cell_type": "code",
   "execution_count": 25,
   "id": "b1d9d582",
   "metadata": {
    "scrolled": false
   },
   "outputs": [
    {
     "ename": "ModuleNotFoundError",
     "evalue": "No module named 'scipy'",
     "output_type": "error",
     "traceback": [
      "\u001b[0;31m---------------------------------------------------------------------------\u001b[0m",
      "\u001b[0;31mModuleNotFoundError\u001b[0m                       Traceback (most recent call last)",
      "\u001b[0;32m/tmp/ipykernel_25857/1314651393.py\u001b[0m in \u001b[0;36m<module>\u001b[0;34m\u001b[0m\n\u001b[1;32m      3\u001b[0m \u001b[0;32mimport\u001b[0m \u001b[0mmatplotlib\u001b[0m\u001b[0;34m.\u001b[0m\u001b[0mpyplot\u001b[0m \u001b[0;32mas\u001b[0m \u001b[0mplt\u001b[0m\u001b[0;34m\u001b[0m\u001b[0;34m\u001b[0m\u001b[0m\n\u001b[1;32m      4\u001b[0m \u001b[0;32mfrom\u001b[0m \u001b[0mpandas\u001b[0m\u001b[0;34m.\u001b[0m\u001b[0mplotting\u001b[0m \u001b[0;32mimport\u001b[0m \u001b[0mbootstrap_plot\u001b[0m\u001b[0;34m\u001b[0m\u001b[0;34m\u001b[0m\u001b[0m\n\u001b[0;32m----> 5\u001b[0;31m \u001b[0;32mimport\u001b[0m \u001b[0mscipy\u001b[0m\u001b[0;34m\u001b[0m\u001b[0;34m\u001b[0m\u001b[0m\n\u001b[0m",
      "\u001b[0;31mModuleNotFoundError\u001b[0m: No module named 'scipy'"
     ]
    }
   ],
   "source": [
    "import pandas as pd\n",
    "import numpy as np\n",
    "import matplotlib.pyplot as plt\n",
    "from pandas.plotting import bootstrap_plot\n",
    "import scipy"
   ]
  },
  {
   "cell_type": "code",
   "execution_count": null,
   "id": "6246b6b9",
   "metadata": {},
   "outputs": [],
   "source": [
    "#ts = pd.Series(np.random.randn(1000), index=pd.date_range('1/1/2000', periods=1000))\n",
    "#ts.plot()\n",
    "#plt.show()"
   ]
  },
  {
   "cell_type": "code",
   "execution_count": 26,
   "id": "693fd45c",
   "metadata": {},
   "outputs": [],
   "source": [
    "dfabstract = pd.read_csv('../GERabstract.csv')\n",
    "dfdetailed = pd.read_csv('../GERdetailed.csv')\n",
    "\n",
    "# Replacement of strings of the system related questions on both surveys\n",
    "dfabstr = dfabstract.replace('Your thoughts about the system [','').replace('Neutral', 2).replace('I do agree',3).replace('I don\\'t agree at all',0).replace('I don\\'t agree', 1).replace('I gree entirelly', 4).replace('meetings per week','', regex=True).replace('meetings', '', regex=True).replace('Your thoughts about the system \\[','').replace(']','')\n",
    "dfdetail = dfdetailed.replace('Your thoughts about the system [','').replace('Neutral', 2).replace('I do agree',3).replace('I don\\'t agree at all',0).replace('I don\\'t agree', 1).replace('I gree entirelly', 4).replace('meetings per week','', regex=True).replace('meetings', '', regex=True).replace('Your thoughts about the system \\[','').replace(']','')\n",
    "\n",
    "dfabstRenamed = dfabstr.columns = ['time', 'age', 'sex', 'ethnicity', 'weekly_online_meet', 'others_opinion', 'sys_too_complex', 'system_understood', 'use_daily', 'raise_engagement', 'raise_happiness', 'size_change_understood', 'complexity_of_sys', 'effect_of_slider', 'use_makes_happy', 'irritating', 'nice_interface', 'system_felt_valuable', 'suggestions']\n",
    "dfdetRenamed = dfdetail.columns = ['time', 'age', 'sex', 'ethnicity', 'weekly_online_meet', 'others_opinion', 'sys_too_complex', 'system_understood', 'use_daily', 'raise_engagement', 'raise_happiness', 'size_change_understood', 'complexity_of_sys', 'effect_of_slider', 'use_makes_happy', 'irritating', 'nice_interface', 'system_felt_valuable', 'suggestions']"
   ]
  },
  {
   "cell_type": "code",
   "execution_count": 27,
   "id": "484222a6",
   "metadata": {
    "collapsed": true
   },
   "outputs": [
    {
     "data": {
      "text/plain": [
       "<bound method NDFrame.head of                    Zeitstempel How old are you? What is your sex?  \\\n",
       "0    2021/07/12 4:42:28 PM OEZ      20-29 years              Male   \n",
       "1    2021/07/12 7:27:24 PM OEZ      20-29 years              Male   \n",
       "2    2021/07/12 8:35:25 PM OEZ      20-29 years              Male   \n",
       "3    2021/07/14 1:08:01 PM OEZ      20-29 years            Female   \n",
       "4    2021/07/15 3:54:26 PM OEZ      20-29 years              Male   \n",
       "5    2021/07/18 9:35:30 PM OEZ      30-39 years              Male   \n",
       "6    2021/07/19 9:31:42 PM OEZ      30-39 years              Male   \n",
       "7   2021/07/19 11:10:44 PM OEZ       > 60 years            Female   \n",
       "8    2021/07/21 1:18:54 PM OEZ      20-29 years            Female   \n",
       "9   2021/07/22 11:38:16 AM OEZ      20-29 years              Male   \n",
       "10   2021/07/22 1:57:41 PM OEZ      30-39 years              Male   \n",
       "11   2021/08/01 3:05:25 PM OEZ      30-39 years            Female   \n",
       "\n",
       "   Where are you born? How many online meetings per week do you usually have?  \\\n",
       "0               Europa                            3 - 6 meetings per week       \n",
       "1               Europa                            3 - 6 meetings per week       \n",
       "2               Europa                            3 - 6 meetings per week       \n",
       "3               Europa                                       < 2 meetings       \n",
       "4                 Asia                            3 - 6 meetings per week       \n",
       "5                 Asia                             > 10 meetings per week       \n",
       "6                 Asia                             7-10 meetings per week       \n",
       "7               Africa                             > 10 meetings per week       \n",
       "8                 Asia                            3 - 6 meetings per week       \n",
       "9               Africa                            3 - 6 meetings per week       \n",
       "10              Europa                            3 - 6 meetings per week       \n",
       "11                Asia                            3 - 6 meetings per week       \n",
       "\n",
       "   Is it important for you to know what others think about you?  \\\n",
       "0                                                  no             \n",
       "1                                                 yes             \n",
       "2                                                 yes             \n",
       "3                                                  no             \n",
       "4                                                  no             \n",
       "5                                                 yes             \n",
       "6                                                 yes             \n",
       "7                                                  no             \n",
       "8                                                 yes             \n",
       "9                                                  no             \n",
       "10                                                yes             \n",
       "11                                                yes             \n",
       "\n",
       "   Your thoughts about the system [I found the system complex.]  \\\n",
       "0                                          I do agree             \n",
       "1                                I don't agree at all             \n",
       "2                                             Neutral             \n",
       "3                                I don't agree at all             \n",
       "4                                       I don't agree             \n",
       "5                                          I do agree             \n",
       "6                                       I don't agree             \n",
       "7                                          I do agree             \n",
       "8                                          I do agree             \n",
       "9                                             Neutral             \n",
       "10                                            Neutral             \n",
       "11                               I don't agree at all             \n",
       "\n",
       "   Your thoughts about the system [I would have needed help to understand the system.]  \\\n",
       "0                                       I don't agree                                    \n",
       "1                                             Neutral                                    \n",
       "2                                       I don't agree                                    \n",
       "3                                       I don't agree                                    \n",
       "4                                       I don't agree                                    \n",
       "5                                          I do agree                                    \n",
       "6                                       I don't agree                                    \n",
       "7                                    I gree entirelly                                    \n",
       "8                                          I do agree                                    \n",
       "9                                             Neutral                                    \n",
       "10                                   I gree entirelly                                    \n",
       "11                                            Neutral                                    \n",
       "\n",
       "   Your thoughts about the system [I could work with the system daily.]  \\\n",
       "0                                             Neutral                     \n",
       "1                                       I don't agree                     \n",
       "2                                       I don't agree                     \n",
       "3                                             Neutral                     \n",
       "4                                             Neutral                     \n",
       "5                                          I do agree                     \n",
       "6                                          I do agree                     \n",
       "7                                I don't agree at all                     \n",
       "8                                       I don't agree                     \n",
       "9                                       I don't agree                     \n",
       "10                                            Neutral                     \n",
       "11                                      I don't agree                     \n",
       "\n",
       "   Your thoughts about the system [By knowing the emotion of the group, the system helped me to readjust my presentation and raise their engagement.]  \\\n",
       "0                                       I don't agree                                                                                                   \n",
       "1                                       I don't agree                                                                                                   \n",
       "2                                       I don't agree                                                                                                   \n",
       "3                                             Neutral                                                                                                   \n",
       "4                                             Neutral                                                                                                   \n",
       "5                                          I do agree                                                                                                   \n",
       "6                                          I do agree                                                                                                   \n",
       "7                                       I don't agree                                                                                                   \n",
       "8                                       I don't agree                                                                                                   \n",
       "9                                       I don't agree                                                                                                   \n",
       "10                                      I don't agree                                                                                                   \n",
       "11                                      I don't agree                                                                                                   \n",
       "\n",
       "   Your thoughts about the system [I could change my presentation during holding it, to raise the happiness of the viewers.]  \\\n",
       "0                                       I don't agree                                                                          \n",
       "1                                             Neutral                                                                          \n",
       "2                                       I don't agree                                                                          \n",
       "3                                          I do agree                                                                          \n",
       "4                                       I don't agree                                                                          \n",
       "5                                          I do agree                                                                          \n",
       "6                                          I do agree                                                                          \n",
       "7                                       I don't agree                                                                          \n",
       "8                                             Neutral                                                                          \n",
       "9                                       I don't agree                                                                          \n",
       "10                                            Neutral                                                                          \n",
       "11                                            Neutral                                                                          \n",
       "\n",
       "   Your thoughts about the system [I think it was clear for me why the size of the emojis was changing.]  \\\n",
       "0                                       I don't agree                                                      \n",
       "1                                             Neutral                                                      \n",
       "2                                          I do agree                                                      \n",
       "3                                             Neutral                                                      \n",
       "4                                          I do agree                                                      \n",
       "5                                I don't agree at all                                                      \n",
       "6                                             Neutral                                                      \n",
       "7                                       I don't agree                                                      \n",
       "8                                          I do agree                                                      \n",
       "9                                       I don't agree                                                      \n",
       "10                                      I don't agree                                                      \n",
       "11                                         I do agree                                                      \n",
       "\n",
       "   Your thoughts about the system [I think the system was too complex to understand.]  \\\n",
       "0                                             Neutral                                   \n",
       "1                                       I don't agree                                   \n",
       "2                                       I don't agree                                   \n",
       "3                                       I don't agree                                   \n",
       "4                                       I don't agree                                   \n",
       "5                                          I do agree                                   \n",
       "6                                             Neutral                                   \n",
       "7                                             Neutral                                   \n",
       "8                                             Neutral                                   \n",
       "9                                             Neutral                                   \n",
       "10                                            Neutral                                   \n",
       "11                               I don't agree at all                                   \n",
       "\n",
       "   Your thoughts about the system [I think it was clear what effect the move of the slider will have.]  \\\n",
       "0                                       I don't agree                                                    \n",
       "1                                             Neutral                                                    \n",
       "2                                          I do agree                                                    \n",
       "3                                             Neutral                                                    \n",
       "4                                          I do agree                                                    \n",
       "5                                I don't agree at all                                                    \n",
       "6                                I don't agree at all                                                    \n",
       "7                                I don't agree at all                                                    \n",
       "8                                          I do agree                                                    \n",
       "9                                          I do agree                                                    \n",
       "10                               I don't agree at all                                                    \n",
       "11                                            Neutral                                                    \n",
       "\n",
       "   Your thoughts about the system [The using of the system makes me happy.]  \\\n",
       "0                                          I do agree                         \n",
       "1                                             Neutral                         \n",
       "2                                             Neutral                         \n",
       "3                                             Neutral                         \n",
       "4                                             Neutral                         \n",
       "5                                I don't agree at all                         \n",
       "6                                             Neutral                         \n",
       "7                                I don't agree at all                         \n",
       "8                                       I don't agree                         \n",
       "9                                             Neutral                         \n",
       "10                                      I don't agree                         \n",
       "11                               I don't agree at all                         \n",
       "\n",
       "   Your thoughts about the system [I think the used emojis were irritating to understand.]  \\\n",
       "0                                I don't agree at all                                        \n",
       "1                                I don't agree at all                                        \n",
       "2                                          I do agree                                        \n",
       "3                                       I don't agree                                        \n",
       "4                                       I don't agree                                        \n",
       "5                                             Neutral                                        \n",
       "6                                    I gree entirelly                                        \n",
       "7                                    I gree entirelly                                        \n",
       "8                                          I do agree                                        \n",
       "9                                          I do agree                                        \n",
       "10                                         I do agree                                        \n",
       "11                                      I don't agree                                        \n",
       "\n",
       "   Your thoughts about the system [I think the system has a nice interface.]  \\\n",
       "0                                    I gree entirelly                          \n",
       "1                                             Neutral                          \n",
       "2                                       I don't agree                          \n",
       "3                                             Neutral                          \n",
       "4                                          I do agree                          \n",
       "5                                I don't agree at all                          \n",
       "6                                       I don't agree                          \n",
       "7                                I don't agree at all                          \n",
       "8                                       I don't agree                          \n",
       "9                                             Neutral                          \n",
       "10                                      I don't agree                          \n",
       "11                                      I don't agree                          \n",
       "\n",
       "   Your thoughts about the system [I felt the system was valuable to me.]  \\\n",
       "0                                I don't agree at all                       \n",
       "1                                             Neutral                       \n",
       "2                                             Neutral                       \n",
       "3                                             Neutral                       \n",
       "4                                          I do agree                       \n",
       "5                                I don't agree at all                       \n",
       "6                                          I do agree                       \n",
       "7                                I don't agree at all                       \n",
       "8                                       I don't agree                       \n",
       "9                                             Neutral                       \n",
       "10                                      I don't agree                       \n",
       "11                                      I don't agree                       \n",
       "\n",
       "   Do you have any suggestion about how to improve the system?  \n",
       "0                                                 NaN           \n",
       "1                                                 NaN           \n",
       "2   Real emojis in the style of e.g. WhatsApp woul...           \n",
       "3                                                 NaN           \n",
       "4                                                 NaN           \n",
       "5                                i didn't understand!           \n",
       "6                                                 NaN           \n",
       "7   dont use emojis... not all times people show f...           \n",
       "8                                                 NaN           \n",
       "9                                                 NaN           \n",
       "10  Instead of just writing \"happiness\" and \"engag...           \n",
       "11                                     it was profect           >"
      ]
     },
     "execution_count": 27,
     "metadata": {},
     "output_type": "execute_result"
    }
   ],
   "source": [
    "dfdetailed.head\n",
    "dfabstract.head"
   ]
  },
  {
   "cell_type": "code",
   "execution_count": 29,
   "id": "70497658",
   "metadata": {},
   "outputs": [],
   "source": []
  },
  {
   "cell_type": "code",
   "execution_count": 30,
   "id": "4e0434e1",
   "metadata": {},
   "outputs": [
    {
     "data": {
      "image/png": "[encoded data removed]",
      "text/plain": [
       "<Figure size 432x288 with 1 Axes>"
      ]
     },
     "metadata": {
      "needs_background": "light"
     },
     "output_type": "display_data"
    }
   ],
   "source": [
    "# questions related to the system\n",
    "sys_dfabstr = dfabstr.iloc[:,6:-1]\n",
    "sys_dfdetail = dfdetail.iloc[:,6:-1]\n",
    "# dataframe['column'].plot()\n",
    "#print(cop)\n",
    "#plt.hist(sys_dfabstr)\n",
    "plt.hist(sys_dfdetail)\n",
    "plt.show()"
   ]
  },
  {
   "cell_type": "code",
   "execution_count": 21,
   "id": "c5095f5d",
   "metadata": {},
   "outputs": [
    {
     "ename": "NameError",
     "evalue": "name 'dfabstr' is not defined",
     "output_type": "error",
     "traceback": [
      "\u001b[0;31m---------------------------------------------------------------------------\u001b[0m",
      "\u001b[0;31mNameError\u001b[0m                                 Traceback (most recent call last)",
      "\u001b[0;32m/tmp/ipykernel_25857/2241110511.py\u001b[0m in \u001b[0;36m<module>\u001b[0;34m\u001b[0m\n\u001b[0;32m----> 1\u001b[0;31m \u001b[0mdfabstr\u001b[0m\u001b[0;34m.\u001b[0m\u001b[0mhead\u001b[0m\u001b[0;34m\u001b[0m\u001b[0;34m\u001b[0m\u001b[0m\n\u001b[0m",
      "\u001b[0;31mNameError\u001b[0m: name 'dfabstr' is not defined"
     ]
    }
   ],
   "source": [
    "dfabstr.head"
   ]
  },
  {
   "cell_type": "code",
   "execution_count": null,
   "id": "74093af6",
   "metadata": {},
   "outputs": [],
   "source": [
    "plt.subplot(1,1,1)\n",
    "plt.hist(sys_dfabstr)\n",
    "plt.subplot(1,1,2)\n",
    "plt.hist(sys_dfdetail)\n",
    "plt.show()"
   ]
  },
  {
   "cell_type": "markdown",
   "id": "9dc18221",
   "metadata": {},
   "source": [
    "- with share**y** the y-Axes are share by both of the graphs"
   ]
  },
  {
   "cell_type": "code",
   "execution_count": null,
   "id": "952f977b",
   "metadata": {},
   "outputs": [],
   "source": [
    "fig, axs = plt.subplots(1, 2, sharey=True)"
   ]
  },
  {
   "cell_type": "markdown",
   "id": "cb8372e7",
   "metadata": {},
   "source": [
    "Here axes is an array which holds the different subplot axes, and you can access one just by indexing axes.\n",
    "If you want a shared x-axis, then you can provide sharex=True to plt.subplots"
   ]
  },
  {
   "cell_type": "code",
   "execution_count": null,
   "id": "0a86163c",
   "metadata": {},
   "outputs": [],
   "source": [
    "fig, axes = plt.subplots(nrows=2, ncols=2, sharey=True)\n",
    "\n",
    "sys_dfabstr.plot(ax=axes[1,1])\n",
    "sys_dfdetail.plot(ax=axes[1,0])"
   ]
  },
  {
   "cell_type": "code",
   "execution_count": null,
   "id": "8034b4b7",
   "metadata": {},
   "outputs": [],
   "source": [
    "fig, (sys_dfabstr, sys_dfdetail) = plt.subplots(1, 2)\n",
    "fig.suptitle('Horizontally stacked subplots')\n",
    "ax1.plot(sys_dfdetail, sys_dfabstr)\n",
    "ax2.plot(sys_dfabstr, sys_dfdetail)"
   ]
  },
  {
   "cell_type": "code",
   "execution_count": null,
   "id": "6d2e738d",
   "metadata": {},
   "outputs": [],
   "source": [
    "plt.violinplot(sys_dfdetail)\n",
    "plt.violinplot(sys_dfabstr)"
   ]
  },
  {
   "cell_type": "code",
   "execution_count": null,
   "id": "45cda1da",
   "metadata": {},
   "outputs": [],
   "source": [
    "#plt.bar(sys_dfabstr)\n",
    "sys_dfabstr.plot.bar(x=10, y=4, rot=0)\n",
    "sys_dfdetail.plot.bar(x=10, y=4, rot=0)\n",
    "sys_dfabstr.plot.barh(x=10, y=4, rot=0)\n",
    "sys_dfabstr.plot.kde(x=10, y=4, rot=0)"
   ]
  },
  {
   "cell_type": "code",
   "execution_count": null,
   "id": "2d243c9a",
   "metadata": {},
   "outputs": [],
   "source": [
    "from statsmodels.graphics.gofplots import qqplot\n",
    "qqplot(sys_dfabstr, line='s')\n",
    "plt.show()"
   ]
  },
  {
   "cell_type": "markdown",
   "id": "cfb9f6f3",
   "metadata": {},
   "source": [
    "Are the given data looking gausian or not"
   ]
  },
  {
   "cell_type": "code",
   "execution_count": null,
   "id": "a258b7bd",
   "metadata": {},
   "outputs": [],
   "source": [
    "from scipy.stats import shapiro\n",
    "stat, p = shapiro(sys_dfabstr)\n",
    "print('Statistics:%.3f, p=%.3f' % (stat,p))\n",
    "#interpretuesi\n",
    "alpha = 0.05\n",
    "if p > alpha:\n",
    "    print('Sample does look gausian')\n",
    "else:\n",
    "    print('Sample doesn\\'t look gausian')"
   ]
  },
  {
   "cell_type": "code",
   "execution_count": null,
   "id": "30d9241f",
   "metadata": {},
   "outputs": [],
   "source": [
    "sys_dfabstr.plot.hist(bins=10)\n",
    "#sys_dfabstr.plot.area()\n",
    "#sys_dfabstr.plot.pie(subplots=True)\n",
    "#sys_dfabstr.plot.pie(y='irritating')\n",
    "#sys_dfabstr.plot.pie(y='irritating',x='nice_interface', table=True)\n",
    "plt.legend(bbox_to_anchor=(1,1), loc=\"best\")\n",
    "plt.show()"
   ]
  },
  {
   "cell_type": "markdown",
   "id": "bbe1033e",
   "metadata": {},
   "source": [
    "- on the x=complexity_of_system(3)\n",
    "- on the y=raise_engagement(6)"
   ]
  },
  {
   "cell_type": "code",
   "execution_count": null,
   "id": "941c8fb4",
   "metadata": {},
   "outputs": [],
   "source": [
    "#sys_dfabstr.plot.box(rot=90)\n",
    "sys_dfabstr.plot.scatter(x=3,y=6, s=10)"
   ]
  },
  {
   "cell_type": "markdown",
   "id": "b55bb0fa",
   "metadata": {},
   "source": [
    "# Density Check"
   ]
  },
  {
   "cell_type": "markdown",
   "id": "a7d7e76f",
   "metadata": {},
   "source": [
    "best\n",
    "\tupper right\n",
    "\tupper left\n",
    "\tlower left\n",
    "\tlower right\n",
    "\tright\n",
    "\tcenter left\n",
    "\tcenter right\n",
    "\tlower center\n",
    "\tupper center\n",
    "\tcenter\n",
    "   "
   ]
  },
  {
   "cell_type": "code",
   "execution_count": 22,
   "id": "54e849c8",
   "metadata": {},
   "outputs": [
    {
     "ename": "AttributeError",
     "evalue": "'function' object has no attribute 'kde'",
     "output_type": "error",
     "traceback": [
      "\u001b[0;31m---------------------------------------------------------------------------\u001b[0m",
      "\u001b[0;31mAttributeError\u001b[0m                            Traceback (most recent call last)",
      "\u001b[0;32m/tmp/ipykernel_25857/3537415012.py\u001b[0m in \u001b[0;36m<module>\u001b[0;34m\u001b[0m\n\u001b[0;32m----> 1\u001b[0;31m \u001b[0msys_dfabstr\u001b[0m\u001b[0;34m.\u001b[0m\u001b[0mplot\u001b[0m\u001b[0;34m.\u001b[0m\u001b[0mkde\u001b[0m\u001b[0;34m(\u001b[0m\u001b[0mbw_method\u001b[0m\u001b[0;34m=\u001b[0m\u001b[0;36m.9\u001b[0m\u001b[0;34m)\u001b[0m\u001b[0;34m\u001b[0m\u001b[0;34m\u001b[0m\u001b[0m\n\u001b[0m\u001b[1;32m      2\u001b[0m \u001b[0;31m#concerning the legend an its position\u001b[0m\u001b[0;34m\u001b[0m\u001b[0;34m\u001b[0m\u001b[0;34m\u001b[0m\u001b[0m\n\u001b[1;32m      3\u001b[0m \u001b[0mplt\u001b[0m\u001b[0;34m.\u001b[0m\u001b[0mlegend\u001b[0m\u001b[0;34m(\u001b[0m\u001b[0mbbox_to_anchor\u001b[0m\u001b[0;34m=\u001b[0m\u001b[0;34m(\u001b[0m\u001b[0;36m1.25\u001b[0m\u001b[0;34m,\u001b[0m\u001b[0;36m1\u001b[0m\u001b[0;34m)\u001b[0m\u001b[0;34m,\u001b[0m \u001b[0mloc\u001b[0m\u001b[0;34m=\u001b[0m\u001b[0;34m\"upper center\"\u001b[0m\u001b[0;34m)\u001b[0m\u001b[0;34m\u001b[0m\u001b[0;34m\u001b[0m\u001b[0m\n\u001b[1;32m      4\u001b[0m \u001b[0mplt\u001b[0m\u001b[0;34m.\u001b[0m\u001b[0mshow\u001b[0m\u001b[0;34m(\u001b[0m\u001b[0;34m)\u001b[0m\u001b[0;34m\u001b[0m\u001b[0;34m\u001b[0m\u001b[0m\n",
      "\u001b[0;31mAttributeError\u001b[0m: 'function' object has no attribute 'kde'"
     ]
    }
   ],
   "source": [
    "sys_dfabstr.plot.kde(bw_method=.9)\n",
    "#concerning the legend an its position\n",
    "plt.legend(bbox_to_anchor=(1.25,1), loc=\"upper center\")\n",
    "plt.show()"
   ]
  },
  {
   "cell_type": "code",
   "execution_count": null,
   "id": "8e96a525",
   "metadata": {},
   "outputs": [],
   "source": [
    "bootstrap_plot(sys_dfabstr, size=1, samples=12);"
   ]
  },
  {
   "cell_type": "code",
   "execution_count": null,
   "id": "9271a371",
   "metadata": {},
   "outputs": [],
   "source": [
    "sumAbs = sys_dfabstr.sum()\n",
    "sumDet = sys_dfdetail.sum()\n",
    "print(sumDet)"
   ]
  },
  {
   "cell_type": "markdown",
   "id": "94f7802e",
   "metadata": {},
   "source": [
    "Print both dataframes side by side"
   ]
  },
  {
   "cell_type": "code",
   "execution_count": null,
   "id": "46443372",
   "metadata": {},
   "outputs": [],
   "source": [
    "pd.concat([d.reset_index(drop=True) \n",
    "           for d in [sys_dfabstr, sys_dfdetail]], axis=1)"
   ]
  },
  {
   "cell_type": "markdown",
   "id": "61394930",
   "metadata": {},
   "source": [
    "Wanted here to compare the answers of both grups to the same questions"
   ]
  },
  {
   "cell_type": "code",
   "execution_count": null,
   "id": "59f3d4c0",
   "metadata": {},
   "outputs": [],
   "source": [
    "pd.concat([sys_dfdetail, sys_dfabstr],keys=['trail1','trail2'])"
   ]
  },
  {
   "cell_type": "code",
   "execution_count": null,
   "id": "27db802d",
   "metadata": {},
   "outputs": [],
   "source": [
    "#https://stackoverflow.com/questions/31258134/how-to-plot-two-dataframe-on-same-graph-for-comparison\n",
    "df1 = pd.DataFrame(sys_dfabstr)\n",
    "df2 = pd.DataFrame(sys_dfdetail)\n",
    "df1.hist()"
   ]
  },
  {
   "cell_type": "markdown",
   "id": "228ac6cd",
   "metadata": {},
   "source": [
    "Crating plots of each column"
   ]
  },
  {
   "cell_type": "code",
   "execution_count": null,
   "id": "30b257d1",
   "metadata": {},
   "outputs": [],
   "source": [
    "fig, (sys_dfabstr, sys_dfdetail) = plt.subplots(2, 1, sharex = True)\n",
    "fig.subplots_adjust(left=0.2, wspace=0.6)\n",
    "box = dict(facecolor='green', pad=5, alpha=0.2)\n",
    "   \n",
    "#np.random.seed(19680801)\n",
    "#ax1.plot(2*np.random.rand(10))\n",
    "sys_dfabstr.set_title('Label is not aligned')\n",
    "sys_dfabstr.set_ylabel('Default', bbox=box)\n",
    "sys_dfabstr.set_ylim(0, 4)\n",
    "   \n",
    "sys_dfdetail.set_title('\\nLabel is aligned')\n",
    "#ax2.plot(20*np.random.rand(10))\n",
    "sys_dfdetail.set_ylabel('Adjusted', bbox=box)\n",
    "sys_dfdetail.set_ylim(0, 4)\n",
    "sys_dfdetail.yaxis.set_label_position(\"right\")\n",
    "   \n",
    "fig.suptitle(\"Matplotlib.axis.Axis.set_label_position()\\\n",
    "Function Example\", fontsize = 12, fontweight ='bold')\n",
    "  \n",
    "plt.show()"
   ]
  }
 ],
 "metadata": {
  "kernelspec": {
   "display_name": "Python 3 (ipykernel)",
   "language": "python",
   "name": "python3"
  },
  "language_info": {
   "codemirror_mode": {
    "name": "ipython",
    "version": 3
   },
   "file_extension": ".py",
   "mimetype": "text/x-python",
   "name": "python",
   "nbconvert_exporter": "python",
   "pygments_lexer": "ipython3",
   "version": "3.9.6"
  }
 },
 "nbformat": 4,
 "nbformat_minor": 5
}

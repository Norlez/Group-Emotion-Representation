{
 "cells": [
  {
   "cell_type": "code",
   "execution_count": 1,
   "id": "8b58888e",
   "metadata": {},
   "outputs": [],
   "source": [
    "import numpy as np\n",
    "from matplotlib import pyplot as plt\n",
    "import pandas as pd"
   ]
  },
  {
   "cell_type": "code",
   "execution_count": 2,
   "id": "53d47930",
   "metadata": {},
   "outputs": [
    {
     "name": "stdout",
     "output_type": "stream",
     "text": [
      "   found_complex  system_understood  use_daily  raise_engagement  \\\n",
      "0              3                1.0        2.0               1.0   \n",
      "1              0                2.0        1.0               1.0   \n",
      "2              2                1.0        1.0               1.0   \n",
      "3              0                1.0        2.0               2.0   \n",
      "4              1                1.0        2.0               2.0   \n",
      "\n",
      "   raise_happiness  size_change_understood  complex  effect_of_slider  \\\n",
      "0              1.0                     1.0      2.0               1.0   \n",
      "1              2.0                     2.0      1.0               2.0   \n",
      "2              1.0                     3.0      1.0               3.0   \n",
      "3              3.0                     2.0      1.0               2.0   \n",
      "4              1.0                     3.0      1.0               3.0   \n",
      "\n",
      "   use_makes_happy  irritating  nice_interface  system_felt_valuable  \n",
      "0              3.0         0.0             4.0                   0.0  \n",
      "1              2.0         0.0             2.0                   2.0  \n",
      "2              2.0         3.0             1.0                   2.0  \n",
      "3              2.0         1.0             2.0                   2.0  \n",
      "4              2.0         1.0             3.0                   3.0  \n"
     ]
    }
   ],
   "source": [
    "abstract_df = pd.read_csv('data/GERabstract.csv')\n",
    "abstract_df.columns = ['found_complex', 'system_understood', 'use_daily', 'raise_engagement', 'raise_happiness', 'size_change_understood', 'complex', 'effect_of_slider', 'use_makes_happy', 'irritating', 'nice_interface', 'system_felt_valuable']\n",
    "print(abstract_df.head())"
   ]
  },
  {
   "cell_type": "code",
   "execution_count": 27,
   "id": "d40f9d1b",
   "metadata": {},
   "outputs": [
    {
     "data": {
      "text/plain": [
       "<bound method PlotAccessor.bar of <pandas.plotting._core.PlotAccessor object at 0x7effb8255d60>>"
      ]
     },
     "execution_count": 27,
     "metadata": {},
     "output_type": "execute_result"
    }
   ],
   "source": [
    "abstract_df = abstract_df[:11]\n",
    "abstract_df.plot.bar"
   ]
  },
  {
   "cell_type": "markdown",
   "id": "75f2c042",
   "metadata": {},
   "source": [
    "# detailed emojis"
   ]
  },
  {
   "cell_type": "code",
   "execution_count": 9,
   "id": "9f480952",
   "metadata": {},
   "outputs": [
    {
     "name": "stdout",
     "output_type": "stream",
     "text": [
      "                        time          age     sex ethnicity  \\\n",
      "0  2021/07/12 3:29:01 PM OEZ  20-29 years   Other    Europa   \n",
      "1  2021/07/12 5:34:54 PM OEZ  20-29 years    Male    Europa   \n",
      "2  2021/07/13 8:39:48 AM OEZ  30-39 years    Male      Asia   \n",
      "3  2021/07/13 4:02:13 PM OEZ  20-29 years  Female      Asia   \n",
      "4  2021/07/15 1:42:25 AM OEZ  20-29 years  Female      Asia   \n",
      "\n",
      "      online_meet_per_week others_opinion         found_complex  \\\n",
      "0  3 - 6 meetings per week             no  I don't agree at all   \n",
      "1  3 - 6 meetings per week             no            I do agree   \n",
      "2  3 - 6 meetings per week             no               Neutral   \n",
      "3  3 - 6 meetings per week             no  I don't agree at all   \n",
      "4  3 - 6 meetings per week             no         I don't agree   \n",
      "\n",
      "      system_understood             use_daily      raise_engagement  \\\n",
      "0         I don't agree            I do agree  I don't agree at all   \n",
      "1            I do agree            I do agree               Neutral   \n",
      "2  I don't agree at all               Neutral            I do agree   \n",
      "3         I don't agree  I don't agree at all  I don't agree at all   \n",
      "4         I don't agree               Neutral               Neutral   \n",
      "\n",
      "        raise_happiness size_change_understood               complex  \\\n",
      "0         I don't agree       I gree entirelly  I don't agree at all   \n",
      "1            I do agree          I don't agree         I don't agree   \n",
      "2            I do agree       I gree entirelly  I don't agree at all   \n",
      "3  I don't agree at all          I don't agree         I don't agree   \n",
      "4         I don't agree             I do agree         I don't agree   \n",
      "\n",
      "       effect_of_slider       use_makes_happy        irritating  \\\n",
      "0               Neutral  I don't agree at all     I don't agree   \n",
      "1               Neutral               Neutral        I do agree   \n",
      "2            I do agree            I do agree           Neutral   \n",
      "3  I don't agree at all  I don't agree at all  I gree entirelly   \n",
      "4         I don't agree               Neutral     I don't agree   \n",
      "\n",
      "         nice_interface  system_felt_valuable  \\\n",
      "0         I don't agree  I don't agree at all   \n",
      "1            I do agree            I do agree   \n",
      "2         I don't agree               Neutral   \n",
      "3  I don't agree at all  I don't agree at all   \n",
      "4         I don't agree               Neutral   \n",
      "\n",
      "                                         suggestions  \n",
      "0  I personally would never want to use anything ...  \n",
      "1  The emotes for disengagement and engagement ar...  \n",
      "2  May be smaller icons of Emoji around the corne...  \n",
      "3  I generally do not find the system very helpfu...  \n",
      "4                                                NaN  \n"
     ]
    }
   ],
   "source": [
    "detailed_df = pd.read_csv('data/GERdetailed.csv')\n",
    "detailed_df.columns = ['time', 'age', 'sex', 'ethnicity', 'online_meet_per_week', 'others_opinion', 'found_complex', 'system_understood', 'use_daily', 'raise_engagement', 'raise_happiness', 'size_change_understood', 'complex', 'effect_of_slider', 'use_makes_happy', 'irritating', 'nice_interface', 'system_felt_valuable', 'suggestions']\n",
    "print(detailed_df.head())"
   ]
  },
  {
   "cell_type": "code",
   "execution_count": 11,
   "id": "fe296536",
   "metadata": {},
   "outputs": [
    {
     "ename": "TypeError",
     "evalue": "arg must be a list, tuple, 1-d array, or Series",
     "output_type": "error",
     "traceback": [
      "\u001b[0;31m---------------------------------------------------------------------------\u001b[0m",
      "\u001b[0;31mTypeError\u001b[0m                                 Traceback (most recent call last)",
      "\u001b[0;32m<ipython-input-11-790392855312>\u001b[0m in \u001b[0;36m<module>\u001b[0;34m\u001b[0m\n\u001b[0;32m----> 1\u001b[0;31m \u001b[0mdetailed_df\u001b[0m \u001b[0;34m=\u001b[0m \u001b[0mpd\u001b[0m\u001b[0;34m.\u001b[0m\u001b[0mto_numeric\u001b[0m\u001b[0;34m(\u001b[0m\u001b[0mdetailed_df\u001b[0m\u001b[0;34m,\u001b[0m \u001b[0mdowncast\u001b[0m\u001b[0;34m=\u001b[0m\u001b[0;34m'float'\u001b[0m\u001b[0;34m)\u001b[0m\u001b[0;34m\u001b[0m\u001b[0;34m\u001b[0m\u001b[0m\n\u001b[0m",
      "\u001b[0;32m~/python_envs/data_analysis/lib/python3.8/site-packages/pandas/core/tools/numeric.py\u001b[0m in \u001b[0;36mto_numeric\u001b[0;34m(arg, errors, downcast)\u001b[0m\n\u001b[1;32m    139\u001b[0m         \u001b[0mvalues\u001b[0m \u001b[0;34m=\u001b[0m \u001b[0mnp\u001b[0m\u001b[0;34m.\u001b[0m\u001b[0marray\u001b[0m\u001b[0;34m(\u001b[0m\u001b[0;34m[\u001b[0m\u001b[0marg\u001b[0m\u001b[0;34m]\u001b[0m\u001b[0;34m,\u001b[0m \u001b[0mdtype\u001b[0m\u001b[0;34m=\u001b[0m\u001b[0;34m\"O\"\u001b[0m\u001b[0;34m)\u001b[0m\u001b[0;34m\u001b[0m\u001b[0;34m\u001b[0m\u001b[0m\n\u001b[1;32m    140\u001b[0m     \u001b[0;32melif\u001b[0m \u001b[0mgetattr\u001b[0m\u001b[0;34m(\u001b[0m\u001b[0marg\u001b[0m\u001b[0;34m,\u001b[0m \u001b[0;34m\"ndim\"\u001b[0m\u001b[0;34m,\u001b[0m \u001b[0;36m1\u001b[0m\u001b[0;34m)\u001b[0m \u001b[0;34m>\u001b[0m \u001b[0;36m1\u001b[0m\u001b[0;34m:\u001b[0m\u001b[0;34m\u001b[0m\u001b[0;34m\u001b[0m\u001b[0m\n\u001b[0;32m--> 141\u001b[0;31m         \u001b[0;32mraise\u001b[0m \u001b[0mTypeError\u001b[0m\u001b[0;34m(\u001b[0m\u001b[0;34m\"arg must be a list, tuple, 1-d array, or Series\"\u001b[0m\u001b[0;34m)\u001b[0m\u001b[0;34m\u001b[0m\u001b[0;34m\u001b[0m\u001b[0m\n\u001b[0m\u001b[1;32m    142\u001b[0m     \u001b[0;32melse\u001b[0m\u001b[0;34m:\u001b[0m\u001b[0;34m\u001b[0m\u001b[0;34m\u001b[0m\u001b[0m\n\u001b[1;32m    143\u001b[0m         \u001b[0mvalues\u001b[0m \u001b[0;34m=\u001b[0m \u001b[0marg\u001b[0m\u001b[0;34m\u001b[0m\u001b[0;34m\u001b[0m\u001b[0m\n",
      "\u001b[0;31mTypeError\u001b[0m: arg must be a list, tuple, 1-d array, or Series"
     ]
    }
   ],
   "source": [
    "detailed_df = pd.to_numeric(detailed_df, downcast='float')"
   ]
  },
  {
   "cell_type": "code",
   "execution_count": null,
   "id": "f1f1544b",
   "metadata": {},
   "outputs": [],
   "source": []
  }
 ],
 "metadata": {
  "kernelspec": {
   "display_name": "Python 3",
   "language": "python",
   "name": "python3"
  },
  "language_info": {
   "codemirror_mode": {
    "name": "ipython",
    "version": 3
   },
   "file_extension": ".py",
   "mimetype": "text/x-python",
   "name": "python",
   "nbconvert_exporter": "python",
   "pygments_lexer": "ipython3",
   "version": "3.8.10"
  }
 },
 "nbformat": 4,
 "nbformat_minor": 5
}

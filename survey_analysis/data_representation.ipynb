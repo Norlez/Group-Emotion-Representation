{
 "cells": [
  {
   "cell_type": "code",
   "execution_count": 1,
   "id": "ca236f6d",
   "metadata": {},
   "outputs": [],
   "source": [
    "import numpy as np\n",
    "from matplotlib import pyplot as plt\n",
    "import pandas as pd"
   ]
  },
  {
   "cell_type": "code",
   "execution_count": 4,
   "id": "b89cb23d",
   "metadata": {},
   "outputs": [],
   "source": [
    "df_abstract = pd.read_csv('data/GERabstract.csv')\n",
    "df_detailed = pd.read_csv('data/GERdetailed.csv')"
   ]
  },
  {
   "cell_type": "code",
   "execution_count": 5,
   "id": "a6880d58",
   "metadata": {},
   "outputs": [
    {
     "name": "stdout",
     "output_type": "stream",
     "text": [
      "Index(['Zeitstempel', 'How old are you?', 'What is your sex?',\n",
      "       'Where are you born?',\n",
      "       'How many online meetings per week do you usually have?',\n",
      "       'Is it important for you to know what others think about you?',\n",
      "       'Your thoughts about the system [I found the system complex.]',\n",
      "       'Your thoughts about the system [I would have needed help to understand the system.]',\n",
      "       'Your thoughts about the system [I could work with the system daily.]',\n",
      "       'Your thoughts about the system [By knowing the emotion of the group, the system helped me to readjust my presentation and raise their engagement.]',\n",
      "       'Your thoughts about the system [I could change my presentation during holding it, to raise the happiness of the viewers.]',\n",
      "       'Your thoughts about the system [I think it was clear for me why the size of the emojis was changing.]',\n",
      "       'Your thoughts about the system [I think the system was too complex to understand.]',\n",
      "       'Your thoughts about the system [The using of the system makes me happy.]',\n",
      "       'Your thoughts about the system [I think the used emojis were irritating to understand.]',\n",
      "       'Your thoughts about the system [I think the system has a nice interface.]',\n",
      "       'Your thoughts about the system [I felt the system was valuable to me.]',\n",
      "       'Do you have any suggestion about how to improve the system?'],\n",
      "      dtype='object')\n"
     ]
    }
   ],
   "source": [
    "print(df_abstract.columns)"
   ]
  },
  {
   "cell_type": "code",
   "execution_count": 7,
   "id": "b34dc9e5",
   "metadata": {},
   "outputs": [],
   "source": [
    "# cleanup data frames\n",
    "def cleanup(df):\n",
    "    df = df.replace('Your thoughts about the system [','').replace('Neutral', 2)\\\n",
    "    .replace('I do agree',3).replace('I don\\'t agree at all',0).replace('I don\\'t agree', 1)\\\n",
    "    .replace('I gree entirelly', 4).replace('meetings per week','', regex=True).replace('meetings', ''\\\n",
    "    , regex=True).replace('Your thoughts about the system \\[','').replace(']','')\n",
    "    \n",
    "    df = df.replace('no', 0).replace('yes', 1)\n",
    "    df = df.replace(np.nan, '')\n",
    "    \n",
    "    shorter_column_names = ['time', 'age', 'sex', 'ethnicity', 'weekly_online_meet', 'others_opinion',\\\n",
    "                        'sys_too_complex', 'system_understood', 'use_daily', 'raise_engagement',\\\n",
    "                        'raise_happiness', 'size_change_understood', 'complexity_of_sys',\\\n",
    "                        'use_makes_happy', 'irritating', 'nice_interface',\\\n",
    "                        'system_felt_valuable', 'suggestions']\n",
    "    df.columns = shorter_column_names\n",
    "    return df\n",
    "    "
   ]
  },
  {
   "cell_type": "code",
   "execution_count": 8,
   "id": "e75c24c8",
   "metadata": {},
   "outputs": [],
   "source": [
    "# Replacement of strings of the system related questions on both surveys\n",
    "df_abstract = cleanup(df_abstract)\n",
    "df_detailed = cleanup(df_detailed)"
   ]
  },
  {
   "cell_type": "code",
   "execution_count": 9,
   "id": "b5102f1e",
   "metadata": {},
   "outputs": [
    {
     "data": {
      "text/html": [
       "<div>\n",
       "<style scoped>\n",
       "    .dataframe tbody tr th:only-of-type {\n",
       "        vertical-align: middle;\n",
       "    }\n",
       "\n",
       "    .dataframe tbody tr th {\n",
       "        vertical-align: top;\n",
       "    }\n",
       "\n",
       "    .dataframe thead th {\n",
       "        text-align: right;\n",
       "    }\n",
       "</style>\n",
       "<table border=\"1\" class=\"dataframe\">\n",
       "  <thead>\n",
       "    <tr style=\"text-align: right;\">\n",
       "      <th></th>\n",
       "      <th>time</th>\n",
       "      <th>age</th>\n",
       "      <th>sex</th>\n",
       "      <th>ethnicity</th>\n",
       "      <th>weekly_online_meet</th>\n",
       "      <th>others_opinion</th>\n",
       "      <th>sys_too_complex</th>\n",
       "      <th>system_understood</th>\n",
       "      <th>use_daily</th>\n",
       "      <th>raise_engagement</th>\n",
       "      <th>raise_happiness</th>\n",
       "      <th>size_change_understood</th>\n",
       "      <th>complexity_of_sys</th>\n",
       "      <th>use_makes_happy</th>\n",
       "      <th>irritating</th>\n",
       "      <th>nice_interface</th>\n",
       "      <th>system_felt_valuable</th>\n",
       "      <th>suggestions</th>\n",
       "    </tr>\n",
       "  </thead>\n",
       "  <tbody>\n",
       "    <tr>\n",
       "      <th>0</th>\n",
       "      <td>2021/07/12 4:42:28 PM OEZ</td>\n",
       "      <td>20-29 years</td>\n",
       "      <td>Male</td>\n",
       "      <td>Europa</td>\n",
       "      <td>3 - 6</td>\n",
       "      <td>0</td>\n",
       "      <td>3</td>\n",
       "      <td>1</td>\n",
       "      <td>2</td>\n",
       "      <td>1</td>\n",
       "      <td>1</td>\n",
       "      <td>1</td>\n",
       "      <td>2</td>\n",
       "      <td>3</td>\n",
       "      <td>0</td>\n",
       "      <td>4</td>\n",
       "      <td>0</td>\n",
       "      <td></td>\n",
       "    </tr>\n",
       "    <tr>\n",
       "      <th>1</th>\n",
       "      <td>2021/07/12 7:27:24 PM OEZ</td>\n",
       "      <td>20-29 years</td>\n",
       "      <td>Male</td>\n",
       "      <td>Europa</td>\n",
       "      <td>3 - 6</td>\n",
       "      <td>1</td>\n",
       "      <td>0</td>\n",
       "      <td>2</td>\n",
       "      <td>1</td>\n",
       "      <td>1</td>\n",
       "      <td>2</td>\n",
       "      <td>2</td>\n",
       "      <td>1</td>\n",
       "      <td>2</td>\n",
       "      <td>0</td>\n",
       "      <td>2</td>\n",
       "      <td>2</td>\n",
       "      <td></td>\n",
       "    </tr>\n",
       "    <tr>\n",
       "      <th>2</th>\n",
       "      <td>2021/07/12 8:35:25 PM OEZ</td>\n",
       "      <td>20-29 years</td>\n",
       "      <td>Male</td>\n",
       "      <td>Europa</td>\n",
       "      <td>3 - 6</td>\n",
       "      <td>1</td>\n",
       "      <td>2</td>\n",
       "      <td>1</td>\n",
       "      <td>1</td>\n",
       "      <td>1</td>\n",
       "      <td>1</td>\n",
       "      <td>3</td>\n",
       "      <td>1</td>\n",
       "      <td>2</td>\n",
       "      <td>3</td>\n",
       "      <td>1</td>\n",
       "      <td>2</td>\n",
       "      <td>Real emojis in the style of e.g. WhatsApp woul...</td>\n",
       "    </tr>\n",
       "    <tr>\n",
       "      <th>3</th>\n",
       "      <td>2021/07/14 1:08:01 PM OEZ</td>\n",
       "      <td>20-29 years</td>\n",
       "      <td>Female</td>\n",
       "      <td>Europa</td>\n",
       "      <td>&lt; 2</td>\n",
       "      <td>0</td>\n",
       "      <td>0</td>\n",
       "      <td>1</td>\n",
       "      <td>2</td>\n",
       "      <td>2</td>\n",
       "      <td>3</td>\n",
       "      <td>2</td>\n",
       "      <td>1</td>\n",
       "      <td>2</td>\n",
       "      <td>1</td>\n",
       "      <td>2</td>\n",
       "      <td>2</td>\n",
       "      <td></td>\n",
       "    </tr>\n",
       "  </tbody>\n",
       "</table>\n",
       "</div>"
      ],
      "text/plain": [
       "                        time          age     sex ethnicity  \\\n",
       "0  2021/07/12 4:42:28 PM OEZ  20-29 years    Male    Europa   \n",
       "1  2021/07/12 7:27:24 PM OEZ  20-29 years    Male    Europa   \n",
       "2  2021/07/12 8:35:25 PM OEZ  20-29 years    Male    Europa   \n",
       "3  2021/07/14 1:08:01 PM OEZ  20-29 years  Female    Europa   \n",
       "\n",
       "  weekly_online_meet  others_opinion  sys_too_complex  system_understood  \\\n",
       "0             3 - 6                0                3                  1   \n",
       "1             3 - 6                1                0                  2   \n",
       "2             3 - 6                1                2                  1   \n",
       "3               < 2                0                0                  1   \n",
       "\n",
       "   use_daily  raise_engagement  raise_happiness  size_change_understood  \\\n",
       "0          2                 1                1                       1   \n",
       "1          1                 1                2                       2   \n",
       "2          1                 1                1                       3   \n",
       "3          2                 2                3                       2   \n",
       "\n",
       "   complexity_of_sys  use_makes_happy  irritating  nice_interface  \\\n",
       "0                  2                3           0               4   \n",
       "1                  1                2           0               2   \n",
       "2                  1                2           3               1   \n",
       "3                  1                2           1               2   \n",
       "\n",
       "   system_felt_valuable                                        suggestions  \n",
       "0                     0                                                     \n",
       "1                     2                                                     \n",
       "2                     2  Real emojis in the style of e.g. WhatsApp woul...  \n",
       "3                     2                                                     "
      ]
     },
     "execution_count": 9,
     "metadata": {},
     "output_type": "execute_result"
    }
   ],
   "source": [
    "df_abstract[:4]\n",
    "#df_abstract.count()\n",
    "#df_detailed.count()"
   ]
  },
  {
   "cell_type": "code",
   "execution_count": 10,
   "id": "b4e477ce",
   "metadata": {},
   "outputs": [
    {
     "data": {
      "text/html": [
       "<div>\n",
       "<style scoped>\n",
       "    .dataframe tbody tr th:only-of-type {\n",
       "        vertical-align: middle;\n",
       "    }\n",
       "\n",
       "    .dataframe tbody tr th {\n",
       "        vertical-align: top;\n",
       "    }\n",
       "\n",
       "    .dataframe thead th {\n",
       "        text-align: right;\n",
       "    }\n",
       "</style>\n",
       "<table border=\"1\" class=\"dataframe\">\n",
       "  <thead>\n",
       "    <tr style=\"text-align: right;\">\n",
       "      <th></th>\n",
       "      <th>time</th>\n",
       "      <th>age</th>\n",
       "      <th>sex</th>\n",
       "      <th>ethnicity</th>\n",
       "      <th>weekly_online_meet</th>\n",
       "      <th>others_opinion</th>\n",
       "      <th>sys_too_complex</th>\n",
       "      <th>system_understood</th>\n",
       "      <th>use_daily</th>\n",
       "      <th>raise_engagement</th>\n",
       "      <th>raise_happiness</th>\n",
       "      <th>size_change_understood</th>\n",
       "      <th>complexity_of_sys</th>\n",
       "      <th>use_makes_happy</th>\n",
       "      <th>irritating</th>\n",
       "      <th>nice_interface</th>\n",
       "      <th>system_felt_valuable</th>\n",
       "      <th>suggestions</th>\n",
       "    </tr>\n",
       "  </thead>\n",
       "  <tbody>\n",
       "    <tr>\n",
       "      <th>0</th>\n",
       "      <td>2021/07/12 3:29:01 PM OEZ</td>\n",
       "      <td>20-29 years</td>\n",
       "      <td>Other</td>\n",
       "      <td>Europa</td>\n",
       "      <td>3 - 6</td>\n",
       "      <td>0</td>\n",
       "      <td>0</td>\n",
       "      <td>1</td>\n",
       "      <td>3</td>\n",
       "      <td>0</td>\n",
       "      <td>1</td>\n",
       "      <td>4</td>\n",
       "      <td>0</td>\n",
       "      <td>0</td>\n",
       "      <td>1</td>\n",
       "      <td>1</td>\n",
       "      <td>0</td>\n",
       "      <td>I personally would never want to use anything ...</td>\n",
       "    </tr>\n",
       "    <tr>\n",
       "      <th>1</th>\n",
       "      <td>2021/07/12 5:34:54 PM OEZ</td>\n",
       "      <td>20-29 years</td>\n",
       "      <td>Male</td>\n",
       "      <td>Europa</td>\n",
       "      <td>3 - 6</td>\n",
       "      <td>0</td>\n",
       "      <td>3</td>\n",
       "      <td>3</td>\n",
       "      <td>3</td>\n",
       "      <td>2</td>\n",
       "      <td>3</td>\n",
       "      <td>1</td>\n",
       "      <td>1</td>\n",
       "      <td>2</td>\n",
       "      <td>3</td>\n",
       "      <td>3</td>\n",
       "      <td>3</td>\n",
       "      <td>The emotes for disengagement and engagement ar...</td>\n",
       "    </tr>\n",
       "    <tr>\n",
       "      <th>2</th>\n",
       "      <td>2021/07/13 8:39:48 AM OEZ</td>\n",
       "      <td>30-39 years</td>\n",
       "      <td>Male</td>\n",
       "      <td>Asia</td>\n",
       "      <td>3 - 6</td>\n",
       "      <td>0</td>\n",
       "      <td>2</td>\n",
       "      <td>0</td>\n",
       "      <td>2</td>\n",
       "      <td>3</td>\n",
       "      <td>3</td>\n",
       "      <td>4</td>\n",
       "      <td>0</td>\n",
       "      <td>3</td>\n",
       "      <td>2</td>\n",
       "      <td>1</td>\n",
       "      <td>2</td>\n",
       "      <td>May be smaller icons of Emoji around the corne...</td>\n",
       "    </tr>\n",
       "    <tr>\n",
       "      <th>3</th>\n",
       "      <td>2021/07/13 4:02:13 PM OEZ</td>\n",
       "      <td>20-29 years</td>\n",
       "      <td>Female</td>\n",
       "      <td>Asia</td>\n",
       "      <td>3 - 6</td>\n",
       "      <td>0</td>\n",
       "      <td>0</td>\n",
       "      <td>1</td>\n",
       "      <td>0</td>\n",
       "      <td>0</td>\n",
       "      <td>0</td>\n",
       "      <td>1</td>\n",
       "      <td>1</td>\n",
       "      <td>0</td>\n",
       "      <td>4</td>\n",
       "      <td>0</td>\n",
       "      <td>0</td>\n",
       "      <td>I generally do not find the system very helpfu...</td>\n",
       "    </tr>\n",
       "  </tbody>\n",
       "</table>\n",
       "</div>"
      ],
      "text/plain": [
       "                        time          age     sex ethnicity  \\\n",
       "0  2021/07/12 3:29:01 PM OEZ  20-29 years   Other    Europa   \n",
       "1  2021/07/12 5:34:54 PM OEZ  20-29 years    Male    Europa   \n",
       "2  2021/07/13 8:39:48 AM OEZ  30-39 years    Male      Asia   \n",
       "3  2021/07/13 4:02:13 PM OEZ  20-29 years  Female      Asia   \n",
       "\n",
       "  weekly_online_meet  others_opinion  sys_too_complex  system_understood  \\\n",
       "0             3 - 6                0                0                  1   \n",
       "1             3 - 6                0                3                  3   \n",
       "2             3 - 6                0                2                  0   \n",
       "3             3 - 6                0                0                  1   \n",
       "\n",
       "   use_daily  raise_engagement  raise_happiness  size_change_understood  \\\n",
       "0          3                 0                1                       4   \n",
       "1          3                 2                3                       1   \n",
       "2          2                 3                3                       4   \n",
       "3          0                 0                0                       1   \n",
       "\n",
       "   complexity_of_sys  use_makes_happy  irritating  nice_interface  \\\n",
       "0                  0                0           1               1   \n",
       "1                  1                2           3               3   \n",
       "2                  0                3           2               1   \n",
       "3                  1                0           4               0   \n",
       "\n",
       "   system_felt_valuable                                        suggestions  \n",
       "0                     0  I personally would never want to use anything ...  \n",
       "1                     3  The emotes for disengagement and engagement ar...  \n",
       "2                     2  May be smaller icons of Emoji around the corne...  \n",
       "3                     0  I generally do not find the system very helpfu...  "
      ]
     },
     "execution_count": 10,
     "metadata": {},
     "output_type": "execute_result"
    }
   ],
   "source": [
    "df_detailed[:4]"
   ]
  },
  {
   "cell_type": "code",
   "execution_count": 11,
   "id": "f73e8fe6",
   "metadata": {},
   "outputs": [
    {
     "data": {
      "text/html": [
       "<div>\n",
       "<style scoped>\n",
       "    .dataframe tbody tr th:only-of-type {\n",
       "        vertical-align: middle;\n",
       "    }\n",
       "\n",
       "    .dataframe tbody tr th {\n",
       "        vertical-align: top;\n",
       "    }\n",
       "\n",
       "    .dataframe thead th {\n",
       "        text-align: right;\n",
       "    }\n",
       "</style>\n",
       "<table border=\"1\" class=\"dataframe\">\n",
       "  <thead>\n",
       "    <tr style=\"text-align: right;\">\n",
       "      <th></th>\n",
       "      <th>others_opinion</th>\n",
       "      <th>sys_too_complex</th>\n",
       "      <th>system_understood</th>\n",
       "      <th>use_daily</th>\n",
       "      <th>raise_engagement</th>\n",
       "      <th>raise_happiness</th>\n",
       "      <th>size_change_understood</th>\n",
       "      <th>complexity_of_sys</th>\n",
       "      <th>use_makes_happy</th>\n",
       "      <th>irritating</th>\n",
       "      <th>nice_interface</th>\n",
       "      <th>system_felt_valuable</th>\n",
       "    </tr>\n",
       "  </thead>\n",
       "  <tbody>\n",
       "    <tr>\n",
       "      <th>count</th>\n",
       "      <td>12.000000</td>\n",
       "      <td>12.000000</td>\n",
       "      <td>12.000000</td>\n",
       "      <td>12.000000</td>\n",
       "      <td>12.000000</td>\n",
       "      <td>12.000000</td>\n",
       "      <td>12.000000</td>\n",
       "      <td>12.000000</td>\n",
       "      <td>12.000000</td>\n",
       "      <td>12.000000</td>\n",
       "      <td>12.000000</td>\n",
       "      <td>12.000000</td>\n",
       "    </tr>\n",
       "    <tr>\n",
       "      <th>mean</th>\n",
       "      <td>0.583333</td>\n",
       "      <td>1.666667</td>\n",
       "      <td>2.083333</td>\n",
       "      <td>1.583333</td>\n",
       "      <td>1.500000</td>\n",
       "      <td>1.833333</td>\n",
       "      <td>1.833333</td>\n",
       "      <td>1.583333</td>\n",
       "      <td>1.416667</td>\n",
       "      <td>2.083333</td>\n",
       "      <td>1.500000</td>\n",
       "      <td>1.416667</td>\n",
       "    </tr>\n",
       "    <tr>\n",
       "      <th>std</th>\n",
       "      <td>0.514929</td>\n",
       "      <td>1.230915</td>\n",
       "      <td>1.164500</td>\n",
       "      <td>0.900337</td>\n",
       "      <td>0.797724</td>\n",
       "      <td>0.834847</td>\n",
       "      <td>1.029857</td>\n",
       "      <td>0.792961</td>\n",
       "      <td>0.996205</td>\n",
       "      <td>1.443376</td>\n",
       "      <td>1.167748</td>\n",
       "      <td>1.083625</td>\n",
       "    </tr>\n",
       "    <tr>\n",
       "      <th>min</th>\n",
       "      <td>0.000000</td>\n",
       "      <td>0.000000</td>\n",
       "      <td>1.000000</td>\n",
       "      <td>0.000000</td>\n",
       "      <td>1.000000</td>\n",
       "      <td>1.000000</td>\n",
       "      <td>0.000000</td>\n",
       "      <td>0.000000</td>\n",
       "      <td>0.000000</td>\n",
       "      <td>0.000000</td>\n",
       "      <td>0.000000</td>\n",
       "      <td>0.000000</td>\n",
       "    </tr>\n",
       "    <tr>\n",
       "      <th>25%</th>\n",
       "      <td>0.000000</td>\n",
       "      <td>0.750000</td>\n",
       "      <td>1.000000</td>\n",
       "      <td>1.000000</td>\n",
       "      <td>1.000000</td>\n",
       "      <td>1.000000</td>\n",
       "      <td>1.000000</td>\n",
       "      <td>1.000000</td>\n",
       "      <td>0.750000</td>\n",
       "      <td>1.000000</td>\n",
       "      <td>1.000000</td>\n",
       "      <td>0.750000</td>\n",
       "    </tr>\n",
       "    <tr>\n",
       "      <th>50%</th>\n",
       "      <td>1.000000</td>\n",
       "      <td>2.000000</td>\n",
       "      <td>2.000000</td>\n",
       "      <td>1.500000</td>\n",
       "      <td>1.000000</td>\n",
       "      <td>2.000000</td>\n",
       "      <td>2.000000</td>\n",
       "      <td>2.000000</td>\n",
       "      <td>2.000000</td>\n",
       "      <td>2.500000</td>\n",
       "      <td>1.000000</td>\n",
       "      <td>1.500000</td>\n",
       "    </tr>\n",
       "    <tr>\n",
       "      <th>75%</th>\n",
       "      <td>1.000000</td>\n",
       "      <td>3.000000</td>\n",
       "      <td>3.000000</td>\n",
       "      <td>2.000000</td>\n",
       "      <td>2.000000</td>\n",
       "      <td>2.250000</td>\n",
       "      <td>3.000000</td>\n",
       "      <td>2.000000</td>\n",
       "      <td>2.000000</td>\n",
       "      <td>3.000000</td>\n",
       "      <td>2.000000</td>\n",
       "      <td>2.000000</td>\n",
       "    </tr>\n",
       "    <tr>\n",
       "      <th>max</th>\n",
       "      <td>1.000000</td>\n",
       "      <td>3.000000</td>\n",
       "      <td>4.000000</td>\n",
       "      <td>3.000000</td>\n",
       "      <td>3.000000</td>\n",
       "      <td>3.000000</td>\n",
       "      <td>3.000000</td>\n",
       "      <td>3.000000</td>\n",
       "      <td>3.000000</td>\n",
       "      <td>4.000000</td>\n",
       "      <td>4.000000</td>\n",
       "      <td>3.000000</td>\n",
       "    </tr>\n",
       "  </tbody>\n",
       "</table>\n",
       "</div>"
      ],
      "text/plain": [
       "       others_opinion  sys_too_complex  system_understood  use_daily  \\\n",
       "count       12.000000        12.000000          12.000000  12.000000   \n",
       "mean         0.583333         1.666667           2.083333   1.583333   \n",
       "std          0.514929         1.230915           1.164500   0.900337   \n",
       "min          0.000000         0.000000           1.000000   0.000000   \n",
       "25%          0.000000         0.750000           1.000000   1.000000   \n",
       "50%          1.000000         2.000000           2.000000   1.500000   \n",
       "75%          1.000000         3.000000           3.000000   2.000000   \n",
       "max          1.000000         3.000000           4.000000   3.000000   \n",
       "\n",
       "       raise_engagement  raise_happiness  size_change_understood  \\\n",
       "count         12.000000        12.000000               12.000000   \n",
       "mean           1.500000         1.833333                1.833333   \n",
       "std            0.797724         0.834847                1.029857   \n",
       "min            1.000000         1.000000                0.000000   \n",
       "25%            1.000000         1.000000                1.000000   \n",
       "50%            1.000000         2.000000                2.000000   \n",
       "75%            2.000000         2.250000                3.000000   \n",
       "max            3.000000         3.000000                3.000000   \n",
       "\n",
       "       complexity_of_sys  use_makes_happy  irritating  nice_interface  \\\n",
       "count          12.000000        12.000000   12.000000       12.000000   \n",
       "mean            1.583333         1.416667    2.083333        1.500000   \n",
       "std             0.792961         0.996205    1.443376        1.167748   \n",
       "min             0.000000         0.000000    0.000000        0.000000   \n",
       "25%             1.000000         0.750000    1.000000        1.000000   \n",
       "50%             2.000000         2.000000    2.500000        1.000000   \n",
       "75%             2.000000         2.000000    3.000000        2.000000   \n",
       "max             3.000000         3.000000    4.000000        4.000000   \n",
       "\n",
       "       system_felt_valuable  \n",
       "count             12.000000  \n",
       "mean               1.416667  \n",
       "std                1.083625  \n",
       "min                0.000000  \n",
       "25%                0.750000  \n",
       "50%                1.500000  \n",
       "75%                2.000000  \n",
       "max                3.000000  "
      ]
     },
     "execution_count": 11,
     "metadata": {},
     "output_type": "execute_result"
    }
   ],
   "source": [
    "df_abstract.describe()"
   ]
  },
  {
   "cell_type": "code",
   "execution_count": 12,
   "id": "18e8102e",
   "metadata": {},
   "outputs": [
    {
     "data": {
      "text/html": [
       "<div>\n",
       "<style scoped>\n",
       "    .dataframe tbody tr th:only-of-type {\n",
       "        vertical-align: middle;\n",
       "    }\n",
       "\n",
       "    .dataframe tbody tr th {\n",
       "        vertical-align: top;\n",
       "    }\n",
       "\n",
       "    .dataframe thead th {\n",
       "        text-align: right;\n",
       "    }\n",
       "</style>\n",
       "<table border=\"1\" class=\"dataframe\">\n",
       "  <thead>\n",
       "    <tr style=\"text-align: right;\">\n",
       "      <th></th>\n",
       "      <th>others_opinion</th>\n",
       "      <th>sys_too_complex</th>\n",
       "      <th>system_understood</th>\n",
       "      <th>use_daily</th>\n",
       "      <th>raise_engagement</th>\n",
       "      <th>raise_happiness</th>\n",
       "      <th>size_change_understood</th>\n",
       "      <th>complexity_of_sys</th>\n",
       "      <th>use_makes_happy</th>\n",
       "      <th>irritating</th>\n",
       "      <th>nice_interface</th>\n",
       "      <th>system_felt_valuable</th>\n",
       "    </tr>\n",
       "  </thead>\n",
       "  <tbody>\n",
       "    <tr>\n",
       "      <th>count</th>\n",
       "      <td>15.000000</td>\n",
       "      <td>15.000000</td>\n",
       "      <td>15.000000</td>\n",
       "      <td>15.000000</td>\n",
       "      <td>15.000000</td>\n",
       "      <td>15.000000</td>\n",
       "      <td>15.000000</td>\n",
       "      <td>15.000000</td>\n",
       "      <td>15.000000</td>\n",
       "      <td>15.000000</td>\n",
       "      <td>15.000000</td>\n",
       "      <td>15.000000</td>\n",
       "    </tr>\n",
       "    <tr>\n",
       "      <th>mean</th>\n",
       "      <td>0.466667</td>\n",
       "      <td>1.466667</td>\n",
       "      <td>1.866667</td>\n",
       "      <td>2.133333</td>\n",
       "      <td>2.266667</td>\n",
       "      <td>2.200000</td>\n",
       "      <td>2.533333</td>\n",
       "      <td>1.066667</td>\n",
       "      <td>1.600000</td>\n",
       "      <td>1.666667</td>\n",
       "      <td>1.866667</td>\n",
       "      <td>1.666667</td>\n",
       "    </tr>\n",
       "    <tr>\n",
       "      <th>std</th>\n",
       "      <td>0.516398</td>\n",
       "      <td>0.990430</td>\n",
       "      <td>0.990430</td>\n",
       "      <td>0.915475</td>\n",
       "      <td>1.099784</td>\n",
       "      <td>1.146423</td>\n",
       "      <td>1.302013</td>\n",
       "      <td>0.798809</td>\n",
       "      <td>0.985611</td>\n",
       "      <td>0.975900</td>\n",
       "      <td>1.060099</td>\n",
       "      <td>1.046536</td>\n",
       "    </tr>\n",
       "    <tr>\n",
       "      <th>min</th>\n",
       "      <td>0.000000</td>\n",
       "      <td>0.000000</td>\n",
       "      <td>0.000000</td>\n",
       "      <td>0.000000</td>\n",
       "      <td>0.000000</td>\n",
       "      <td>0.000000</td>\n",
       "      <td>1.000000</td>\n",
       "      <td>0.000000</td>\n",
       "      <td>0.000000</td>\n",
       "      <td>1.000000</td>\n",
       "      <td>0.000000</td>\n",
       "      <td>0.000000</td>\n",
       "    </tr>\n",
       "    <tr>\n",
       "      <th>25%</th>\n",
       "      <td>0.000000</td>\n",
       "      <td>1.000000</td>\n",
       "      <td>1.000000</td>\n",
       "      <td>2.000000</td>\n",
       "      <td>2.000000</td>\n",
       "      <td>1.000000</td>\n",
       "      <td>1.000000</td>\n",
       "      <td>1.000000</td>\n",
       "      <td>1.000000</td>\n",
       "      <td>1.000000</td>\n",
       "      <td>1.000000</td>\n",
       "      <td>1.000000</td>\n",
       "    </tr>\n",
       "    <tr>\n",
       "      <th>50%</th>\n",
       "      <td>0.000000</td>\n",
       "      <td>1.000000</td>\n",
       "      <td>2.000000</td>\n",
       "      <td>2.000000</td>\n",
       "      <td>2.000000</td>\n",
       "      <td>3.000000</td>\n",
       "      <td>3.000000</td>\n",
       "      <td>1.000000</td>\n",
       "      <td>2.000000</td>\n",
       "      <td>1.000000</td>\n",
       "      <td>2.000000</td>\n",
       "      <td>2.000000</td>\n",
       "    </tr>\n",
       "    <tr>\n",
       "      <th>75%</th>\n",
       "      <td>1.000000</td>\n",
       "      <td>2.000000</td>\n",
       "      <td>3.000000</td>\n",
       "      <td>3.000000</td>\n",
       "      <td>3.000000</td>\n",
       "      <td>3.000000</td>\n",
       "      <td>4.000000</td>\n",
       "      <td>1.000000</td>\n",
       "      <td>2.000000</td>\n",
       "      <td>2.000000</td>\n",
       "      <td>3.000000</td>\n",
       "      <td>2.000000</td>\n",
       "    </tr>\n",
       "    <tr>\n",
       "      <th>max</th>\n",
       "      <td>1.000000</td>\n",
       "      <td>3.000000</td>\n",
       "      <td>3.000000</td>\n",
       "      <td>3.000000</td>\n",
       "      <td>4.000000</td>\n",
       "      <td>4.000000</td>\n",
       "      <td>4.000000</td>\n",
       "      <td>3.000000</td>\n",
       "      <td>3.000000</td>\n",
       "      <td>4.000000</td>\n",
       "      <td>3.000000</td>\n",
       "      <td>3.000000</td>\n",
       "    </tr>\n",
       "  </tbody>\n",
       "</table>\n",
       "</div>"
      ],
      "text/plain": [
       "       others_opinion  sys_too_complex  system_understood  use_daily  \\\n",
       "count       15.000000        15.000000          15.000000  15.000000   \n",
       "mean         0.466667         1.466667           1.866667   2.133333   \n",
       "std          0.516398         0.990430           0.990430   0.915475   \n",
       "min          0.000000         0.000000           0.000000   0.000000   \n",
       "25%          0.000000         1.000000           1.000000   2.000000   \n",
       "50%          0.000000         1.000000           2.000000   2.000000   \n",
       "75%          1.000000         2.000000           3.000000   3.000000   \n",
       "max          1.000000         3.000000           3.000000   3.000000   \n",
       "\n",
       "       raise_engagement  raise_happiness  size_change_understood  \\\n",
       "count         15.000000        15.000000               15.000000   \n",
       "mean           2.266667         2.200000                2.533333   \n",
       "std            1.099784         1.146423                1.302013   \n",
       "min            0.000000         0.000000                1.000000   \n",
       "25%            2.000000         1.000000                1.000000   \n",
       "50%            2.000000         3.000000                3.000000   \n",
       "75%            3.000000         3.000000                4.000000   \n",
       "max            4.000000         4.000000                4.000000   \n",
       "\n",
       "       complexity_of_sys  use_makes_happy  irritating  nice_interface  \\\n",
       "count          15.000000        15.000000   15.000000       15.000000   \n",
       "mean            1.066667         1.600000    1.666667        1.866667   \n",
       "std             0.798809         0.985611    0.975900        1.060099   \n",
       "min             0.000000         0.000000    1.000000        0.000000   \n",
       "25%             1.000000         1.000000    1.000000        1.000000   \n",
       "50%             1.000000         2.000000    1.000000        2.000000   \n",
       "75%             1.000000         2.000000    2.000000        3.000000   \n",
       "max             3.000000         3.000000    4.000000        3.000000   \n",
       "\n",
       "       system_felt_valuable  \n",
       "count             15.000000  \n",
       "mean               1.666667  \n",
       "std                1.046536  \n",
       "min                0.000000  \n",
       "25%                1.000000  \n",
       "50%                2.000000  \n",
       "75%                2.000000  \n",
       "max                3.000000  "
      ]
     },
     "execution_count": 12,
     "metadata": {},
     "output_type": "execute_result"
    }
   ],
   "source": [
    "df_detailed.describe()"
   ]
  },
  {
   "cell_type": "code",
   "execution_count": 13,
   "id": "55541322",
   "metadata": {},
   "outputs": [],
   "source": [
    "# separate only numeric values\n",
    "df_abs = df_abstract.iloc[:, 5:-1]\n",
    "df_det = df_detailed.iloc[:, 5:-1]"
   ]
  },
  {
   "cell_type": "code",
   "execution_count": 14,
   "id": "76bcb21c",
   "metadata": {},
   "outputs": [
    {
     "data": {
      "image/png": "[encoded data removed]",
      "text/plain": [
       "<Figure size 576x648 with 12 Axes>"
      ]
     },
     "metadata": {
      "needs_background": "light"
     },
     "output_type": "display_data"
    }
   ],
   "source": [
    "df_abs.hist(figsize = (8,9));"
   ]
  },
  {
   "cell_type": "code",
   "execution_count": 15,
   "id": "20e3f51b",
   "metadata": {},
   "outputs": [
    {
     "data": {
      "image/png": "[encoded data removed]",
      "text/plain": [
       "<Figure size 576x648 with 12 Axes>"
      ]
     },
     "metadata": {
      "needs_background": "light"
     },
     "output_type": "display_data"
    }
   ],
   "source": [
    "df_det.hist(figsize = (8,9));"
   ]
  },
  {
   "cell_type": "markdown",
   "id": "fb132ff9",
   "metadata": {},
   "source": [
    "From the histogram, it is clear that the data is not normally distributed.\n",
    "Some normality tests can be done to prove it.\n",
    "https://machinelearningmastery.com/a-gentle-introduction-to-normality-tests-in-python/"
   ]
  },
  {
   "cell_type": "code",
   "execution_count": 16,
   "id": "9a751e14",
   "metadata": {},
   "outputs": [
    {
     "data": {
      "image/png": "[encoded data removed]",
      "text/plain": [
       "<Figure size 432x288 with 1 Axes>"
      ]
     },
     "metadata": {
      "needs_background": "light"
     },
     "output_type": "display_data"
    },
    {
     "data": {
      "image/png": "[encoded data removed]",
      "text/plain": [
       "<Figure size 432x288 with 1 Axes>"
      ]
     },
     "metadata": {
      "needs_background": "light"
     },
     "output_type": "display_data"
    },
    {
     "data": {
      "image/png": "[encoded data removed]",
      "text/plain": [
       "<Figure size 432x288 with 1 Axes>"
      ]
     },
     "metadata": {
      "needs_background": "light"
     },
     "output_type": "display_data"
    },
    {
     "data": {
      "image/png": "[encoded data removed]",
      "text/plain": [
       "<Figure size 432x288 with 1 Axes>"
      ]
     },
     "metadata": {
      "needs_background": "light"
     },
     "output_type": "display_data"
    }
   ],
   "source": [
    "from statsmodels.graphics.gofplots import qqplot\n",
    "qqplot(df_det['use_makes_happy'], line='s');\n",
    "qqplot(df_det['size_change_understood'], line='s');\n",
    "qqplot(df_abs['irritating'], line='s');\n",
    "qqplot(df_abs['complexity_of_sys'], line='s');\n",
    "\n",
    "# @Labi, please try it with some of the columns from abstract, \n",
    "# and detailed set and show that due to outliers data is likely not from a Gaussian distribution."
   ]
  },
  {
   "cell_type": "markdown",
   "id": "8f7c5c04",
   "metadata": {},
   "source": [
    "Since there are deviations in the QQ plot, the data is not drawn from a Gaussian distribution."
   ]
  },
  {
   "cell_type": "markdown",
   "id": "b027a9ed",
   "metadata": {},
   "source": [
    "### Shapiro-Wilk test to know if the data was drawn from a Gaussian distribution"
   ]
  },
  {
   "cell_type": "code",
   "execution_count": 17,
   "id": "74d17195",
   "metadata": {},
   "outputs": [],
   "source": [
    "from scipy.stats import shapiro\n",
    "def is_normally_distributed(data, alpha=0.05):\n",
    "    stat, p = shapiro(data)\n",
    "    if p > alpha:\n",
    "        return True\n",
    "    else:\n",
    "        return False"
   ]
  },
  {
   "cell_type": "code",
   "execution_count": 18,
   "id": "bca6b0e3",
   "metadata": {},
   "outputs": [
    {
     "name": "stdout",
     "output_type": "stream",
     "text": [
      "others_opinion is normally distributed: False\n",
      "sys_too_complex is normally distributed: False\n",
      "system_understood is normally distributed: False\n",
      "use_daily is normally distributed: True\n",
      "raise_engagement is normally distributed: False\n",
      "raise_happiness is normally distributed: False\n",
      "size_change_understood is normally distributed: True\n",
      "complexity_of_sys is normally distributed: True\n",
      "use_makes_happy is normally distributed: False\n",
      "irritating is normally distributed: True\n",
      "nice_interface is normally distributed: True\n",
      "system_felt_valuable is normally distributed: True\n"
     ]
    }
   ],
   "source": [
    "for colmn in df_abs.columns:\n",
    "    print(f'{colmn} is normally distributed: {is_normally_distributed(df_abs[colmn])}')    "
   ]
  },
  {
   "cell_type": "code",
   "execution_count": 19,
   "id": "a22e6107",
   "metadata": {},
   "outputs": [
    {
     "name": "stdout",
     "output_type": "stream",
     "text": [
      "Abstract sample:\n",
      "True counter:  6  False counter:  6\n"
     ]
    }
   ],
   "source": [
    "tru = 0\n",
    "fals = 0\n",
    "for colmn in df_abs.columns:\n",
    "    if(is_normally_distributed(df_abs[colmn]) == True):\n",
    "            tru = tru + 1\n",
    "    else:\n",
    "            fals = fals + 1\n",
    "print('Abstract sample:')\n",
    "print(\"True counter: \", tru, \" False counter: \", fals)"
   ]
  },
  {
   "cell_type": "code",
   "execution_count": 20,
   "id": "7f30cf42",
   "metadata": {},
   "outputs": [
    {
     "name": "stdout",
     "output_type": "stream",
     "text": [
      "others_opinion is normally distributed: False\n",
      "sys_too_complex is normally distributed: False\n",
      "system_understood is normally distributed: False\n",
      "use_daily is normally distributed: False\n",
      "raise_engagement is normally distributed: False\n",
      "raise_happiness is normally distributed: False\n",
      "size_change_understood is normally distributed: False\n",
      "complexity_of_sys is normally distributed: False\n",
      "use_makes_happy is normally distributed: False\n",
      "irritating is normally distributed: False\n",
      "nice_interface is normally distributed: False\n",
      "system_felt_valuable is normally distributed: False\n"
     ]
    }
   ],
   "source": [
    "for colmn in df_det.columns:\n",
    "    print(f'{colmn} is normally distributed: {is_normally_distributed(df_det[colmn])}')"
   ]
  },
  {
   "cell_type": "markdown",
   "id": "f4b3fb91",
   "metadata": {},
   "source": [
    "Since, almost all of the data is not normally distributed, we will use non-parametric methods to check our Null hypothesis, H0: There is no difference in the data distribution of abstract emojis and detailed emojis. "
   ]
  },
  {
   "cell_type": "markdown",
   "id": "e1c9d3be",
   "metadata": {},
   "source": [
    "[https://machinelearningmastery.com/nonparametric-statistical-significance-tests-in-python] (Nonparametric Satistical test with python)"
   ]
  },
  {
   "cell_type": "code",
   "execution_count": 21,
   "id": "04799312",
   "metadata": {},
   "outputs": [
    {
     "name": "stdout",
     "output_type": "stream",
     "text": [
      "Datailed sample:\n",
      "True counter:  0  False counter:  12\n"
     ]
    }
   ],
   "source": [
    "tru = 0\n",
    "fals = 0\n",
    "for colmn in df_abs.columns:\n",
    "    if(is_normally_distributed(df_det[colmn]) == True):\n",
    "            tru = tru + 1\n",
    "    else:\n",
    "            fals = fals + 1\n",
    "print('Datailed sample:')\n",
    "print(\"True counter: \", tru, \" False counter: \", fals)"
   ]
  },
  {
   "cell_type": "code",
   "execution_count": 76,
   "id": "28832fea",
   "metadata": {},
   "outputs": [
    {
     "name": "stdout",
     "output_type": "stream",
     "text": [
      "Defaulting to user installation because normal site-packages is not writeable\n",
      "\u001b[31mERROR: Could not find a version that satisfies the requirement mannwhitneyu (from versions: none)\u001b[0m\n",
      "\u001b[31mERROR: No matching distribution found for mannwhitneyu\u001b[0m\n",
      "\u001b[33mWARNING: You are using pip version 21.2.2; however, version 21.2.4 is available.\n",
      "You should consider upgrading via the '/usr/bin/python -m pip install --upgrade pip' command.\u001b[0m\n",
      "Note: you may need to restart the kernel to use updated packages.\n"
     ]
    }
   ],
   "source": [
    "pip install mannwhitneyu"
   ]
  },
  {
   "cell_type": "code",
   "execution_count": 22,
   "id": "96565567",
   "metadata": {},
   "outputs": [],
   "source": [
    "# Mann-Whitney U Test\n",
    "from scipy.stats import mannwhitneyu\n",
    "def Mann_Whitney_U_Test(data0, data1, alpha=0.05):\n",
    "    stat, p = mannwhitneyu(data0, data1)\n",
    "    if p > alpha:\n",
    "        return True\n",
    "    else:\n",
    "        return False    "
   ]
  },
  {
   "cell_type": "code",
   "execution_count": 23,
   "id": "8e830dae",
   "metadata": {},
   "outputs": [
    {
     "name": "stdout",
     "output_type": "stream",
     "text": [
      "others_opinion in both sets, belongs to same distribution: True\n",
      "sys_too_complex in both sets, belongs to same distribution: True\n",
      "system_understood in both sets, belongs to same distribution: True\n",
      "use_daily in both sets, belongs to same distribution: True\n",
      "raise_engagement in both sets, belongs to same distribution: False\n",
      "raise_happiness in both sets, belongs to same distribution: True\n",
      "size_change_understood in both sets, belongs to same distribution: True\n",
      "complexity_of_sys in both sets, belongs to same distribution: False\n",
      "use_makes_happy in both sets, belongs to same distribution: True\n",
      "irritating in both sets, belongs to same distribution: True\n",
      "nice_interface in both sets, belongs to same distribution: True\n",
      "system_felt_valuable in both sets, belongs to same distribution: True\n"
     ]
    }
   ],
   "source": [
    "for colmn in df_abs.columns:\n",
    "    print(f'{colmn} in both sets, belongs to same distribution: {Mann_Whitney_U_Test(df_abs[colmn], df_det[colmn])}')    "
   ]
  },
  {
   "cell_type": "code",
   "execution_count": 79,
   "id": "118aa762",
   "metadata": {
    "collapsed": true
   },
   "outputs": [
    {
     "name": "stdout",
     "output_type": "stream",
     "text": [
      "Defaulting to user installation because normal site-packages is not writeable\n",
      "\u001b[31mERROR: Could not find a version that satisfies the requirement mannwhitneyu (from versions: none)\u001b[0m\n",
      "\u001b[31mERROR: No matching distribution found for mannwhitneyu\u001b[0m\n",
      "\u001b[33mWARNING: You are using pip version 21.2.2; however, version 21.2.4 is available.\n",
      "You should consider upgrading via the '/usr/bin/python -m pip install --upgrade pip' command.\u001b[0m\n",
      "Note: you may need to restart the kernel to use updated packages.\n"
     ]
    }
   ],
   "source": [
    "pip install mannwhitneyu"
   ]
  },
  {
   "cell_type": "code",
   "execution_count": 24,
   "id": "8f265f49",
   "metadata": {},
   "outputs": [],
   "source": [
    "# Wilcoxon Signed-Rank Test\n",
    "from scipy.stats import wilcoxon\n",
    "def Wilcoxon_signed_rank_Test(data0, data1, alpha=0.05):\n",
    "    stat, p = mannwhitneyu(data0, data1)\n",
    "    if p > alpha:\n",
    "        return True\n",
    "    else:\n",
    "        return False"
   ]
  },
  {
   "cell_type": "code",
   "execution_count": 25,
   "id": "b7691cc6",
   "metadata": {},
   "outputs": [
    {
     "name": "stdout",
     "output_type": "stream",
     "text": [
      "others_opinion in both sets, belongs to same distribution: True\n",
      "sys_too_complex in both sets, belongs to same distribution: True\n",
      "system_understood in both sets, belongs to same distribution: True\n",
      "use_daily in both sets, belongs to same distribution: True\n",
      "raise_engagement in both sets, belongs to same distribution: False\n",
      "raise_happiness in both sets, belongs to same distribution: True\n",
      "size_change_understood in both sets, belongs to same distribution: True\n",
      "complexity_of_sys in both sets, belongs to same distribution: False\n",
      "use_makes_happy in both sets, belongs to same distribution: True\n",
      "irritating in both sets, belongs to same distribution: True\n",
      "nice_interface in both sets, belongs to same distribution: True\n",
      "system_felt_valuable in both sets, belongs to same distribution: True\n"
     ]
    }
   ],
   "source": [
    "for colmn in df_abs.columns:\n",
    "    print(f'{colmn} in both sets, belongs to same distribution: {Wilcoxon_signed_rank_Test(df_abs[colmn], df_det[colmn])}')"
   ]
  }
 ],
 "metadata": {
  "kernelspec": {
   "display_name": "Python 3 (ipykernel)",
   "language": "python",
   "name": "python3"
  },
  "language_info": {
   "codemirror_mode": {
    "name": "ipython",
    "version": 3
   },
   "file_extension": ".py",
   "mimetype": "text/x-python",
   "name": "python",
   "nbconvert_exporter": "python",
   "pygments_lexer": "ipython3",
   "version": "3.8.8"
  }
 },
 "nbformat": 4,
 "nbformat_minor": 5
}
